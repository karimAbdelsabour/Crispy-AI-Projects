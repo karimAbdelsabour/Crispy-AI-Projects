{
  "nbformat": 4,
  "nbformat_minor": 0,
  "metadata": {
    "colab": {
      "provenance": []
    },
    "kernelspec": {
      "name": "python3",
      "display_name": "Python 3"
    },
    "language_info": {
      "name": "python"
    }
  },
  "cells": [
    {
      "cell_type": "code",
      "execution_count": null,
      "metadata": {
        "id": "9GKx7MmQg8mP",
        "colab": {
          "base_uri": "https://localhost:8080/"
        },
        "outputId": "1bfca35f-1fd6-491c-cb42-24b5a81a9556"
      },
      "outputs": [
        {
          "output_type": "stream",
          "name": "stdout",
          "text": [
            "Downloading data from https://storage.googleapis.com/tensorflow/tf-keras-datasets/mnist.npz\n",
            "11490434/11490434 [==============================] - 0s 0us/step\n"
          ]
        },
        {
          "output_type": "execute_result",
          "data": {
            "text/plain": [
              "array([5, 0, 4, ..., 5, 6, 8], dtype=uint8)"
            ]
          },
          "metadata": {},
          "execution_count": 1
        }
      ],
      "source": [
        "from tensorflow.keras import  datasets\n",
        "from keras.layers import Input, Dense, Flatten\n",
        "from keras.models import Sequential\n",
        "from matplotlib import pyplot as plt\n",
        "\n",
        "(x_train, y_train), (x_test, y_test) = datasets.mnist.load_data()\n",
        "\n",
        "#Normalize image pixel values.\n",
        "x_train = x_train/255\n",
        "x_test = x_test/255\n",
        "y_train"
      ]
    },
    {
      "cell_type": "code",
      "source": [
        "import numpy as np\n",
        "np.unique(y_train)\n"
      ],
      "metadata": {
        "colab": {
          "base_uri": "https://localhost:8080/"
        },
        "id": "hCkHaShpho4W",
        "outputId": "5c8e6685-7a2f-4006-97be-69b2a56acf25"
      },
      "execution_count": null,
      "outputs": [
        {
          "output_type": "execute_result",
          "data": {
            "text/plain": [
              "array([0, 1, 2, 3, 4, 5, 6, 7, 8, 9], dtype=uint8)"
            ]
          },
          "metadata": {},
          "execution_count": 2
        }
      ]
    },
    {
      "cell_type": "code",
      "source": [
        "y_train[0:10]"
      ],
      "metadata": {
        "id": "-_WQ5iv8hjmH",
        "colab": {
          "base_uri": "https://localhost:8080/"
        },
        "outputId": "2dd17149-012a-4a39-cf40-8fb4ab785147"
      },
      "execution_count": null,
      "outputs": [
        {
          "output_type": "execute_result",
          "data": {
            "text/plain": [
              "array([5, 0, 4, 1, 9, 2, 1, 3, 1, 4], dtype=uint8)"
            ]
          },
          "metadata": {},
          "execution_count": 3
        }
      ]
    },
    {
      "cell_type": "code",
      "source": [
        "#flatten inside the model, batch =None\n",
        "model=Sequential()\n",
        "model.add(Input(shape=(28,28,1)))\n",
        "# model.add(Input(batch_shape=(64,28,28,1)))\n",
        "model.add(Flatten())\n",
        "model.add(Dense(120,activation = 'tanh'))\n",
        "model.add(Dense(84,activation = 'tanh'))\n",
        "model.add(Dense(10,activation = 'softmax'))\n",
        "model.summary()"
      ],
      "metadata": {
        "colab": {
          "base_uri": "https://localhost:8080/"
        },
        "id": "aHMdiS2c9qTA",
        "outputId": "1e91dca6-426c-4477-f651-49a8ce10ae6d"
      },
      "execution_count": null,
      "outputs": [
        {
          "output_type": "stream",
          "name": "stdout",
          "text": [
            "Model: \"sequential_5\"\n",
            "_________________________________________________________________\n",
            " Layer (type)                Output Shape              Param #   \n",
            "=================================================================\n",
            " flatten_4 (Flatten)         (None, 784)               0         \n",
            "                                                                 \n",
            " dense_15 (Dense)            (None, 120)               94200     \n",
            "                                                                 \n",
            " dense_16 (Dense)            (None, 84)                10164     \n",
            "                                                                 \n",
            " dense_17 (Dense)            (None, 10)                850       \n",
            "                                                                 \n",
            "=================================================================\n",
            "Total params: 105214 (410.99 KB)\n",
            "Trainable params: 105214 (410.99 KB)\n",
            "Non-trainable params: 0 (0.00 Byte)\n",
            "_________________________________________________________________\n"
          ]
        }
      ]
    },
    {
      "cell_type": "code",
      "source": [
        "#flatten inside the model, batch =32\n",
        "model=Sequential()\n",
        "model.add(Flatten(input_shape=(28,28,1)))\n",
        "# model.add(Flatten(batch_input_shape=(32,28,28,1)))\n",
        "model.add(Dense(120,activation = 'tanh'))\n",
        "model.add(Dense(84,activation = 'tanh'))\n",
        "model.add(Dense(10,activation = 'softmax'))\n",
        "model.summary()"
      ],
      "metadata": {
        "colab": {
          "base_uri": "https://localhost:8080/"
        },
        "id": "NiXL-SuyhYhJ",
        "outputId": "5c5b253b-a8e7-468a-9151-c96824fdacf5"
      },
      "execution_count": null,
      "outputs": [
        {
          "output_type": "stream",
          "name": "stdout",
          "text": [
            "Model: \"sequential_6\"\n",
            "_________________________________________________________________\n",
            " Layer (type)                Output Shape              Param #   \n",
            "=================================================================\n",
            " flatten_5 (Flatten)         (None, 784)               0         \n",
            "                                                                 \n",
            " dense_18 (Dense)            (None, 120)               94200     \n",
            "                                                                 \n",
            " dense_19 (Dense)            (None, 84)                10164     \n",
            "                                                                 \n",
            " dense_20 (Dense)            (None, 10)                850       \n",
            "                                                                 \n",
            "=================================================================\n",
            "Total params: 105214 (410.99 KB)\n",
            "Trainable params: 105214 (410.99 KB)\n",
            "Non-trainable params: 0 (0.00 Byte)\n",
            "_________________________________________________________________\n"
          ]
        }
      ]
    },
    {
      "cell_type": "code",
      "source": [
        "#flatten outside the model using reshape\n",
        "x_train = x_train.reshape(60000, 784)\n",
        "x_test = x_test.reshape(10000, 784)\n",
        "\n",
        "model=Sequential()\n",
        "# model.add(Input(shape=(784,)))\n",
        "# model.add(Dense(120,activation = 'tanh',input_shape=(784,)))\n",
        "# model.add(Dense(120,activation = 'tanh',input_shape=(784,)))\n",
        "model.add(Dense(120,activation = 'tanh',batch_input_shape=(32,784,)))\n",
        "model.add(Dense(84,activation = 'tanh'))\n",
        "model.add(Dense(10,activation = 'softmax'))\n",
        "model.summary()"
      ],
      "metadata": {
        "colab": {
          "base_uri": "https://localhost:8080/"
        },
        "id": "2X9I8kYN-EXr",
        "outputId": "b661be13-606f-49f9-a71a-1808e739ebec"
      },
      "execution_count": null,
      "outputs": [
        {
          "output_type": "stream",
          "name": "stdout",
          "text": [
            "Model: \"sequential_7\"\n",
            "_________________________________________________________________\n",
            " Layer (type)                Output Shape              Param #   \n",
            "=================================================================\n",
            " dense_21 (Dense)            (32, 120)                 94200     \n",
            "                                                                 \n",
            " dense_22 (Dense)            (32, 84)                  10164     \n",
            "                                                                 \n",
            " dense_23 (Dense)            (32, 10)                  850       \n",
            "                                                                 \n",
            "=================================================================\n",
            "Total params: 105214 (410.99 KB)\n",
            "Trainable params: 105214 (410.99 KB)\n",
            "Non-trainable params: 0 (0.00 Byte)\n",
            "_________________________________________________________________\n"
          ]
        }
      ]
    }
  ]
}