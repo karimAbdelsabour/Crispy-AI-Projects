{
  "nbformat": 4,
  "nbformat_minor": 0,
  "metadata": {
    "colab": {
      "provenance": []
    },
    "kernelspec": {
      "name": "python3",
      "display_name": "Python 3"
    },
    "language_info": {
      "name": "python"
    },
    "accelerator": "GPU",
    "gpuClass": "standard"
  },
  "cells": [
    {
      "cell_type": "code",
      "execution_count": null,
      "metadata": {
        "id": "h0M3l98C0j_X"
      },
      "outputs": [],
      "source": [
        "import pandas as pd\n",
        "df = pd.read_csv('/content/auto-mpg_without nan.csv')"
      ]
    },
    {
      "cell_type": "code",
      "source": [
        "print(df)"
      ],
      "metadata": {
        "colab": {
          "base_uri": "https://localhost:8080/"
        },
        "id": "S_c288Sm0wmC",
        "outputId": "c516a30b-6bc4-48de-b8c4-3f700a560daa"
      },
      "execution_count": null,
      "outputs": [
        {
          "output_type": "stream",
          "name": "stdout",
          "text": [
            "      mpg  cylinders  displacement  horsepower  weight  acceleration  year  \\\n",
            "0    18.0          8         307.0         130    3504          12.0  1970   \n",
            "1    15.0          8         350.0         165    3693          11.5  1970   \n",
            "2    18.0          8         318.0         150    3436          11.0  1970   \n",
            "3    16.0          8         304.0         150    3433          12.0  1970   \n",
            "4    17.0          8         302.0         140    3449          10.5  1970   \n",
            "..    ...        ...           ...         ...     ...           ...   ...   \n",
            "387  27.0          4         140.0          86    2790          15.6  1982   \n",
            "388  44.0          4          97.0          52    2130          24.6  1982   \n",
            "389  32.0          4         135.0          84    2295          11.6  1982   \n",
            "390  28.0          4         120.0          79    2625          18.6  1982   \n",
            "391  31.0          4         119.0          82    2720          19.4  1982   \n",
            "\n",
            "      origin                       name  \n",
            "0        USA  chevrolet chevelle malibu  \n",
            "1        USA          buick skylark 320  \n",
            "2        USA         plymouth satellite  \n",
            "3        USA              amc rebel sst  \n",
            "4        USA                ford torino  \n",
            "..       ...                        ...  \n",
            "387      USA            ford mustang gl  \n",
            "388  Germany                  vw pickup  \n",
            "389      USA              dodge rampage  \n",
            "390      USA                ford ranger  \n",
            "391      USA                 chevy s-10  \n",
            "\n",
            "[392 rows x 9 columns]\n"
          ]
        }
      ]
    },
    {
      "cell_type": "code",
      "source": [
        "df.columns"
      ],
      "metadata": {
        "colab": {
          "base_uri": "https://localhost:8080/"
        },
        "id": "TDU88hjGjjIL",
        "outputId": "e03df269-2082-4769-dbe5-ea343ac9bc26"
      },
      "execution_count": null,
      "outputs": [
        {
          "output_type": "execute_result",
          "data": {
            "text/plain": [
              "Index(['mpg', 'cylinders', 'displacement', 'horsepower', 'weight',\n",
              "       'acceleration', 'year', 'origin', 'name'],\n",
              "      dtype='object')"
            ]
          },
          "metadata": {},
          "execution_count": 3
        }
      ]
    },
    {
      "cell_type": "code",
      "source": [
        "#convert  df[\"origin\"] object to categorical\n",
        "df[\"origin\"]=df[\"origin\"].astype('category')\n",
        "df[\"origin\"]=df[\"origin\"].cat.codes\n",
        "print(df)\n"
      ],
      "metadata": {
        "colab": {
          "base_uri": "https://localhost:8080/"
        },
        "id": "W6h28FkKrY24",
        "outputId": "92c72d60-f5ef-44a4-b77b-bd0dd6a7cb4f"
      },
      "execution_count": null,
      "outputs": [
        {
          "output_type": "stream",
          "name": "stdout",
          "text": [
            "      mpg  cylinders  displacement  horsepower  weight  acceleration  year  \\\n",
            "0    18.0          8         307.0         130    3504          12.0  1970   \n",
            "1    15.0          8         350.0         165    3693          11.5  1970   \n",
            "2    18.0          8         318.0         150    3436          11.0  1970   \n",
            "3    16.0          8         304.0         150    3433          12.0  1970   \n",
            "4    17.0          8         302.0         140    3449          10.5  1970   \n",
            "..    ...        ...           ...         ...     ...           ...   ...   \n",
            "387  27.0          4         140.0          86    2790          15.6  1982   \n",
            "388  44.0          4          97.0          52    2130          24.6  1982   \n",
            "389  32.0          4         135.0          84    2295          11.6  1982   \n",
            "390  28.0          4         120.0          79    2625          18.6  1982   \n",
            "391  31.0          4         119.0          82    2720          19.4  1982   \n",
            "\n",
            "     origin                       name  \n",
            "0         2  chevrolet chevelle malibu  \n",
            "1         2          buick skylark 320  \n",
            "2         2         plymouth satellite  \n",
            "3         2              amc rebel sst  \n",
            "4         2                ford torino  \n",
            "..      ...                        ...  \n",
            "387       2            ford mustang gl  \n",
            "388       0                  vw pickup  \n",
            "389       2              dodge rampage  \n",
            "390       2                ford ranger  \n",
            "391       2                 chevy s-10  \n",
            "\n",
            "[392 rows x 9 columns]\n"
          ]
        }
      ]
    },
    {
      "cell_type": "code",
      "source": [
        "df.drop(df.columns[8:],axis=1,inplace=True)\n",
        "print(df)\n"
      ],
      "metadata": {
        "colab": {
          "base_uri": "https://localhost:8080/"
        },
        "id": "oQnj0ZhIEzd7",
        "outputId": "9b255f8d-5b76-499c-837f-11938ea7fd44"
      },
      "execution_count": null,
      "outputs": [
        {
          "output_type": "stream",
          "name": "stdout",
          "text": [
            "      mpg  cylinders  displacement  horsepower  weight  acceleration  year  \\\n",
            "0    18.0          8         307.0         130    3504          12.0  1970   \n",
            "1    15.0          8         350.0         165    3693          11.5  1970   \n",
            "2    18.0          8         318.0         150    3436          11.0  1970   \n",
            "3    16.0          8         304.0         150    3433          12.0  1970   \n",
            "4    17.0          8         302.0         140    3449          10.5  1970   \n",
            "..    ...        ...           ...         ...     ...           ...   ...   \n",
            "387  27.0          4         140.0          86    2790          15.6  1982   \n",
            "388  44.0          4          97.0          52    2130          24.6  1982   \n",
            "389  32.0          4         135.0          84    2295          11.6  1982   \n",
            "390  28.0          4         120.0          79    2625          18.6  1982   \n",
            "391  31.0          4         119.0          82    2720          19.4  1982   \n",
            "\n",
            "     origin  \n",
            "0         2  \n",
            "1         2  \n",
            "2         2  \n",
            "3         2  \n",
            "4         2  \n",
            "..      ...  \n",
            "387       2  \n",
            "388       0  \n",
            "389       2  \n",
            "390       2  \n",
            "391       2  \n",
            "\n",
            "[392 rows x 8 columns]\n"
          ]
        }
      ]
    },
    {
      "cell_type": "code",
      "source": [
        "x=df.iloc[:,1::]\n",
        "# x=df.iloc[:,1:8]\n",
        "y=df.iloc[:,0]"
      ],
      "metadata": {
        "id": "f0Nn_kfDn9fJ"
      },
      "execution_count": null,
      "outputs": []
    },
    {
      "cell_type": "code",
      "source": [
        "x.shape"
      ],
      "metadata": {
        "colab": {
          "base_uri": "https://localhost:8080/"
        },
        "id": "dJEX_70u1BS-",
        "outputId": "560c4745-a92d-4b00-c47e-d5a582c244fd"
      },
      "execution_count": null,
      "outputs": [
        {
          "output_type": "execute_result",
          "data": {
            "text/plain": [
              "(392, 7)"
            ]
          },
          "metadata": {},
          "execution_count": 7
        }
      ]
    },
    {
      "cell_type": "code",
      "source": [
        "y.shape"
      ],
      "metadata": {
        "colab": {
          "base_uri": "https://localhost:8080/"
        },
        "id": "cFa22n0KzPh3",
        "outputId": "2182249e-624e-424f-c3d0-5b4296d0b935"
      },
      "execution_count": null,
      "outputs": [
        {
          "output_type": "execute_result",
          "data": {
            "text/plain": [
              "(392,)"
            ]
          },
          "metadata": {},
          "execution_count": 8
        }
      ]
    },
    {
      "cell_type": "code",
      "source": [
        "from sklearn.model_selection import train_test_split\n",
        "X_train, X_test, y_train, y_test = train_test_split(x, y, test_size=0.2, random_state=42)"
      ],
      "metadata": {
        "id": "Vh05hnz2o1_9"
      },
      "execution_count": null,
      "outputs": []
    },
    {
      "cell_type": "code",
      "source": [
        "X_train.shape"
      ],
      "metadata": {
        "colab": {
          "base_uri": "https://localhost:8080/"
        },
        "id": "f3w8gkmk8BWy",
        "outputId": "af906da4-60a9-4788-8ba2-f3ced9b6108e"
      },
      "execution_count": null,
      "outputs": [
        {
          "output_type": "execute_result",
          "data": {
            "text/plain": [
              "(313, 7)"
            ]
          },
          "metadata": {},
          "execution_count": 10
        }
      ]
    },
    {
      "cell_type": "code",
      "source": [
        "y_train.shape"
      ],
      "metadata": {
        "colab": {
          "base_uri": "https://localhost:8080/"
        },
        "id": "a0FypxVAAIU-",
        "outputId": "6def34a5-55f3-498e-82f8-077740960092"
      },
      "execution_count": null,
      "outputs": [
        {
          "output_type": "execute_result",
          "data": {
            "text/plain": [
              "(313,)"
            ]
          },
          "metadata": {},
          "execution_count": 11
        }
      ]
    },
    {
      "cell_type": "code",
      "source": [
        "X_test.shape"
      ],
      "metadata": {
        "colab": {
          "base_uri": "https://localhost:8080/"
        },
        "id": "NncgQnUXifso",
        "outputId": "05e8d8eb-8345-474a-a4f6-ade0c3db3aae"
      },
      "execution_count": null,
      "outputs": [
        {
          "output_type": "execute_result",
          "data": {
            "text/plain": [
              "(79, 7)"
            ]
          },
          "metadata": {},
          "execution_count": 12
        }
      ]
    },
    {
      "cell_type": "code",
      "source": [
        "from sklearn import linear_model\n",
        "model = linear_model.LinearRegression()\n",
        "\n",
        "model.fit(X_train, y_train)\n",
        "\n",
        "y_pred = model.predict(X_test)\n",
        "y_pred.shape\n",
        "\n",
        "from sklearn.metrics import mean_absolute_error\n",
        "mae=mean_absolute_error(y_test,y_pred)\n",
        "mae=mae.astype(int)\n",
        "mae\n",
        "\n",
        "from sklearn.metrics import r2_score\n",
        "print(r2_score(y_test,y_pred))"
      ],
      "metadata": {
        "id": "QDUxSnyz-8qs",
        "colab": {
          "base_uri": "https://localhost:8080/"
        },
        "outputId": "edf93c03-21b6-4d85-8f1a-d9fcdaafbafb"
      },
      "execution_count": null,
      "outputs": [
        {
          "output_type": "stream",
          "name": "stdout",
          "text": [
            "0.7924340895411506\n"
          ]
        }
      ]
    }
  ]
}