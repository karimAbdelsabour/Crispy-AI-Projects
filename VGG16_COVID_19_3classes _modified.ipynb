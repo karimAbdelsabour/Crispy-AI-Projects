{
  "nbformat": 4,
  "nbformat_minor": 0,
  "metadata": {
    "colab": {
      "provenance": [],
      "gpuType": "T4"
    },
    "kernelspec": {
      "name": "python3",
      "display_name": "Python 3"
    },
    "language_info": {
      "name": "python"
    },
    "accelerator": "GPU"
  },
  "cells": [
    {
      "cell_type": "code",
      "execution_count": 1,
      "metadata": {
        "colab": {
          "base_uri": "https://localhost:8080/"
        },
        "id": "4krTU1nC7teQ",
        "outputId": "dfd14ad9-3a7a-4f30-ce13-4f137e51ed27"
      },
      "outputs": [
        {
          "output_type": "stream",
          "name": "stdout",
          "text": [
            "Requirement already satisfied: kaggle in /usr/local/lib/python3.10/dist-packages (1.5.16)\n",
            "Requirement already satisfied: six>=1.10 in /usr/local/lib/python3.10/dist-packages (from kaggle) (1.16.0)\n",
            "Requirement already satisfied: certifi in /usr/local/lib/python3.10/dist-packages (from kaggle) (2023.7.22)\n",
            "Requirement already satisfied: python-dateutil in /usr/local/lib/python3.10/dist-packages (from kaggle) (2.8.2)\n",
            "Requirement already satisfied: requests in /usr/local/lib/python3.10/dist-packages (from kaggle) (2.31.0)\n",
            "Requirement already satisfied: tqdm in /usr/local/lib/python3.10/dist-packages (from kaggle) (4.66.1)\n",
            "Requirement already satisfied: python-slugify in /usr/local/lib/python3.10/dist-packages (from kaggle) (8.0.1)\n",
            "Requirement already satisfied: urllib3 in /usr/local/lib/python3.10/dist-packages (from kaggle) (2.0.4)\n",
            "Requirement already satisfied: bleach in /usr/local/lib/python3.10/dist-packages (from kaggle) (6.0.0)\n",
            "Requirement already satisfied: webencodings in /usr/local/lib/python3.10/dist-packages (from bleach->kaggle) (0.5.1)\n",
            "Requirement already satisfied: text-unidecode>=1.3 in /usr/local/lib/python3.10/dist-packages (from python-slugify->kaggle) (1.3)\n",
            "Requirement already satisfied: charset-normalizer<4,>=2 in /usr/local/lib/python3.10/dist-packages (from requests->kaggle) (3.2.0)\n",
            "Requirement already satisfied: idna<4,>=2.5 in /usr/local/lib/python3.10/dist-packages (from requests->kaggle) (3.4)\n",
            "Warning: Your Kaggle API key is readable by other users on this system! To fix this, you can run 'chmod 600 /content/kaggle.json'\n",
            "covid19-xray-dataset-with-preprocessed-images.zip: Skipping, found more recently modified local copy (use --force to force download)\n",
            "Archive:  covid19-xray-dataset-with-preprocessed-images.zip\n",
            "replace CovidDataset/Train/Covid/01E392EE-69F9-4E33-BFCE-E5C968654078.jpeg? [y]es, [n]o, [A]ll, [N]one, [r]ename: N\n"
          ]
        }
      ],
      "source": [
        "!pip install  kaggle\n",
        "import os\n",
        "os.environ['KAGGLE_CONFIG_DIR'] = '/content'\n",
        "!kaggle datasets download -d shreyanshgupta/covid19-xray-dataset-with-preprocessed-images\n",
        "!unzip covid19-xray-dataset-with-preprocessed-images.zip\n",
        "\n"
      ]
    },
    {
      "cell_type": "code",
      "source": [
        "import pandas as pd\n",
        "from tensorflow import keras\n",
        "from keras.models import *\n",
        "import tensorflow as tf\n",
        "from keras.layers import *\n",
        "import tensorflow.keras.utils\n",
        "from keras.preprocessing.image import ImageDataGenerator\n",
        "from tensorflow.keras.callbacks import EarlyStopping\n",
        "from tensorflow.keras.models import Sequential\n",
        "from keras.preprocessing import image\n",
        "from tensorflow.keras.layers import Flatten, Dense, Input\n",
        "from tensorflow.keras.utils import load_img, img_to_array\n",
        "import numpy as np\n",
        "from tensorflow.keras.models import load_model\n",
        "from numpy import argmax\n"
      ],
      "metadata": {
        "id": "LxZ1BkMu_wNF"
      },
      "execution_count": 2,
      "outputs": []
    },
    {
      "cell_type": "code",
      "source": [
        "train_data=ImageDataGenerator(rescale=1./255.)\n",
        "test_data=ImageDataGenerator(rescale=1./255.)\n",
        "\n",
        "train_dataset = train_data.flow_from_directory('/content/CovidDataset/Train',\n",
        "                                                target_size=(200,200),\n",
        "                                                batch_size= 128,\n",
        "                                                class_mode='categorical',shuffle=False)\n",
        "\n",
        "test_dataset = test_data.flow_from_directory('/content/CovidDataset/Val',\n",
        "                                           target_size = (200,200),\n",
        "                                           batch_size = 128,\n",
        "                                           class_mode ='categorical',shuffle=False)"
      ],
      "metadata": {
        "colab": {
          "base_uri": "https://localhost:8080/"
        },
        "id": "JHuBk5jS__YW",
        "outputId": "f51573b8-ee51-4a62-ca59-eb2ca40bf4c9"
      },
      "execution_count": 3,
      "outputs": [
        {
          "output_type": "stream",
          "name": "stdout",
          "text": [
            "Found 870 images belonging to 3 classes.\n",
            "Found 218 images belonging to 3 classes.\n"
          ]
        }
      ]
    },
    {
      "cell_type": "code",
      "source": [
        "test_dataset.labels"
      ],
      "metadata": {
        "colab": {
          "base_uri": "https://localhost:8080/"
        },
        "id": "KsrvliG8__ak",
        "outputId": "bc45df93-6a6b-4e25-b64a-1e409d2e9d2e"
      },
      "execution_count": 4,
      "outputs": [
        {
          "output_type": "execute_result",
          "data": {
            "text/plain": [
              "array([0, 0, 0, 0, 0, 0, 0, 0, 0, 0, 0, 0, 0, 0, 0, 0, 0, 0, 0, 0, 0, 0,\n",
              "       0, 0, 0, 0, 0, 0, 0, 0, 0, 0, 0, 0, 0, 0, 0, 0, 0, 0, 0, 0, 0, 0,\n",
              "       0, 0, 0, 0, 0, 0, 0, 0, 0, 0, 0, 0, 0, 0, 0, 0, 0, 0, 0, 0, 0, 0,\n",
              "       0, 0, 0, 0, 0, 0, 1, 1, 1, 1, 1, 1, 1, 1, 1, 1, 1, 1, 1, 1, 1, 1,\n",
              "       1, 1, 1, 1, 1, 1, 1, 1, 1, 1, 1, 1, 1, 1, 1, 1, 1, 1, 1, 1, 1, 1,\n",
              "       1, 1, 1, 1, 1, 1, 1, 1, 1, 1, 1, 1, 1, 1, 1, 1, 1, 1, 1, 1, 1, 1,\n",
              "       1, 1, 1, 1, 1, 1, 1, 1, 1, 1, 1, 1, 1, 2, 2, 2, 2, 2, 2, 2, 2, 2,\n",
              "       2, 2, 2, 2, 2, 2, 2, 2, 2, 2, 2, 2, 2, 2, 2, 2, 2, 2, 2, 2, 2, 2,\n",
              "       2, 2, 2, 2, 2, 2, 2, 2, 2, 2, 2, 2, 2, 2, 2, 2, 2, 2, 2, 2, 2, 2,\n",
              "       2, 2, 2, 2, 2, 2, 2, 2, 2, 2, 2, 2, 2, 2, 2, 2, 2, 2, 2, 2],\n",
              "      dtype=int32)"
            ]
          },
          "metadata": {},
          "execution_count": 4
        }
      ]
    },
    {
      "cell_type": "code",
      "source": [
        "test_dataset.filenames"
      ],
      "metadata": {
        "colab": {
          "base_uri": "https://localhost:8080/"
        },
        "id": "otT1kNza__dU",
        "outputId": "0f80fd9e-e806-4061-995e-69217e588051"
      },
      "execution_count": 5,
      "outputs": [
        {
          "output_type": "execute_result",
          "data": {
            "text/plain": [
              "['Covid/1-s2.0-S1684118220300682-main.pdf-002-a2.png',\n",
              " 'Covid/1-s2.0-S1684118220300682-main.pdf-003-b1.png',\n",
              " 'Covid/1.CXRCTThoraximagesofCOVID-19fromSingapore.pdf-001-fig2a.png',\n",
              " 'Covid/1.CXRCTThoraximagesofCOVID-19fromSingapore.pdf-003-fig4a.png',\n",
              " 'Covid/16654_4_1.jpg',\n",
              " 'Covid/16660_1_1.jpg',\n",
              " 'Covid/88de9d8c39e946abd495b37cd07d89e5-6531-0.jpg',\n",
              " 'Covid/AR-2.jpg',\n",
              " 'Covid/COVID-19 (103).png',\n",
              " 'Covid/COVID-19 (104).png',\n",
              " 'Covid/COVID-19 (105).png',\n",
              " 'Covid/COVID-19 (109).png',\n",
              " 'Covid/COVID-19 (111).png',\n",
              " 'Covid/COVID-19 (116).png',\n",
              " 'Covid/COVID-19 (12).png',\n",
              " 'Covid/COVID-19 (120).png',\n",
              " 'Covid/COVID-19 (121).png',\n",
              " 'Covid/COVID-19 (127).png',\n",
              " 'Covid/COVID-19 (129).png',\n",
              " 'Covid/COVID-19 (13).png',\n",
              " 'Covid/COVID-19 (18).png',\n",
              " 'Covid/COVID-19 (33).png',\n",
              " 'Covid/COVID-19 (38).png',\n",
              " 'Covid/COVID-19 (39).png',\n",
              " 'Covid/COVID-19 (58).png',\n",
              " 'Covid/COVID-19 (63).png',\n",
              " 'Covid/COVID-19 (68).png',\n",
              " 'Covid/COVID-19 (69).png',\n",
              " 'Covid/COVID-19 (7).png',\n",
              " 'Covid/COVID-19 (72).png',\n",
              " 'Covid/COVID-19 (76).png',\n",
              " 'Covid/COVID-19 (79).png',\n",
              " 'Covid/COVID-19 (82).png',\n",
              " 'Covid/COVID-19 (84).png',\n",
              " 'Covid/COVID-19 (87).png',\n",
              " 'Covid/COVID-19 (93).png',\n",
              " 'Covid/COVID-19(134).png',\n",
              " 'Covid/COVID-19(139).png',\n",
              " 'Covid/COVID-19(140).png',\n",
              " 'Covid/COVID-19(144).png',\n",
              " 'Covid/COVID-19(148).png',\n",
              " 'Covid/COVID-19(152).png',\n",
              " 'Covid/COVID-19(156).png',\n",
              " 'Covid/COVID-19(160).png',\n",
              " 'Covid/COVID-19(161).png',\n",
              " 'Covid/COVID-19(162).png',\n",
              " 'Covid/COVID-19(169).png',\n",
              " 'Covid/COVID-19(173).png',\n",
              " 'Covid/COVID-19(175).png',\n",
              " 'Covid/COVID-19(179).png',\n",
              " 'Covid/COVID-19(180).png',\n",
              " 'Covid/COVID-19(184).png',\n",
              " 'Covid/COVID-19(188).png',\n",
              " 'Covid/COVID-19(192).png',\n",
              " 'Covid/COVID-19(193).png',\n",
              " 'Covid/COVID-19(205).png',\n",
              " 'Covid/COVID-19(211).png',\n",
              " 'Covid/COVID-19(216).png',\n",
              " 'Covid/COVID-19(217).png',\n",
              " 'Covid/COVID-19(218).png',\n",
              " 'Covid/all14238-fig-0001-m-b.jpg',\n",
              " 'Covid/covid-19-infection-exclusive-gastrointestinal-symptoms-l.png',\n",
              " 'Covid/covid-19-pneumonia-2.jpg',\n",
              " 'Covid/covid-19-pneumonia-28.png',\n",
              " 'Covid/extubation-13.jpg',\n",
              " 'Covid/figure1-5e71be566aa8714a04de3386-98-left.jpeg',\n",
              " 'Covid/figure1-5e75d0940b71e1b702629659-98-right.jpeg',\n",
              " 'Covid/kjr-21-e24-g002-l-a.jpg',\n",
              " 'Covid/nejmoa2001191_f5-PA.jpeg',\n",
              " 'Covid/radiol.2020200274.fig3d.png',\n",
              " 'Covid/ryct.2020200034.fig5-day0.jpeg',\n",
              " 'Covid/ryct.2020200034.fig5-day7.jpeg',\n",
              " 'Normal/NORMAL (1073).png',\n",
              " 'Normal/NORMAL (1074).png',\n",
              " 'Normal/NORMAL (1087).png',\n",
              " 'Normal/NORMAL (1094).png',\n",
              " 'Normal/NORMAL (1098).png',\n",
              " 'Normal/NORMAL (1104).png',\n",
              " 'Normal/NORMAL (1110).png',\n",
              " 'Normal/NORMAL (1112).png',\n",
              " 'Normal/NORMAL (1122).png',\n",
              " 'Normal/NORMAL (1124).png',\n",
              " 'Normal/NORMAL (1146).png',\n",
              " 'Normal/NORMAL (1165).png',\n",
              " 'Normal/NORMAL (1173).png',\n",
              " 'Normal/NORMAL (1207).png',\n",
              " 'Normal/NORMAL (1210).png',\n",
              " 'Normal/NORMAL (1212).png',\n",
              " 'Normal/NORMAL (1219).png',\n",
              " 'Normal/NORMAL (1228).png',\n",
              " 'Normal/NORMAL (1245).png',\n",
              " 'Normal/NORMAL (1246).png',\n",
              " 'Normal/NORMAL (1257).png',\n",
              " 'Normal/NORMAL (1259).png',\n",
              " 'Normal/NORMAL (128).png',\n",
              " 'Normal/NORMAL (130).png',\n",
              " 'Normal/NORMAL (1300).png',\n",
              " 'Normal/NORMAL (131).png',\n",
              " 'Normal/NORMAL (1311).png',\n",
              " 'Normal/NORMAL (1339).png',\n",
              " 'Normal/NORMAL (136).png',\n",
              " 'Normal/NORMAL (141).png',\n",
              " 'Normal/NORMAL (154).png',\n",
              " 'Normal/NORMAL (181).png',\n",
              " 'Normal/NORMAL (217).png',\n",
              " 'Normal/NORMAL (218).png',\n",
              " 'Normal/NORMAL (233).png',\n",
              " 'Normal/NORMAL (283).png',\n",
              " 'Normal/NORMAL (350).png',\n",
              " 'Normal/NORMAL (357).png',\n",
              " 'Normal/NORMAL (360).png',\n",
              " 'Normal/NORMAL (364).png',\n",
              " 'Normal/NORMAL (373).png',\n",
              " 'Normal/NORMAL (404).png',\n",
              " 'Normal/NORMAL (408).png',\n",
              " 'Normal/NORMAL (468).png',\n",
              " 'Normal/NORMAL (474).png',\n",
              " 'Normal/NORMAL (527).png',\n",
              " 'Normal/NORMAL (55).png',\n",
              " 'Normal/NORMAL (589).png',\n",
              " 'Normal/NORMAL (610).png',\n",
              " 'Normal/NORMAL (646).png',\n",
              " 'Normal/NORMAL (665).png',\n",
              " 'Normal/NORMAL (666).png',\n",
              " 'Normal/NORMAL (672).png',\n",
              " 'Normal/NORMAL (694).png',\n",
              " 'Normal/NORMAL (712).png',\n",
              " 'Normal/NORMAL (719).png',\n",
              " 'Normal/NORMAL (723).png',\n",
              " 'Normal/NORMAL (751).png',\n",
              " 'Normal/NORMAL (791).png',\n",
              " 'Normal/NORMAL (796).png',\n",
              " 'Normal/NORMAL (813).png',\n",
              " 'Normal/NORMAL (842).png',\n",
              " 'Normal/NORMAL (865).png',\n",
              " 'Normal/NORMAL (890).png',\n",
              " 'Normal/NORMAL (91).png',\n",
              " 'Normal/NORMAL (948).png',\n",
              " 'Normal/NORMAL (961).png',\n",
              " 'Normal/NORMAL (963).png',\n",
              " 'Normal/NORMAL (978).png',\n",
              " 'Normal/NORMAL (98).png',\n",
              " 'Normal/NORMAL (983).png',\n",
              " 'Normal/NORMAL (991).png',\n",
              " 'Normal/NORMAL (993).png',\n",
              " 'Pneumonia/Viral Pneumonia (1006).png',\n",
              " 'Pneumonia/Viral Pneumonia (1058).png',\n",
              " 'Pneumonia/Viral Pneumonia (1062).png',\n",
              " 'Pneumonia/Viral Pneumonia (1071).png',\n",
              " 'Pneumonia/Viral Pneumonia (1083).png',\n",
              " 'Pneumonia/Viral Pneumonia (1087).png',\n",
              " 'Pneumonia/Viral Pneumonia (1126).png',\n",
              " 'Pneumonia/Viral Pneumonia (1160).png',\n",
              " 'Pneumonia/Viral Pneumonia (1165).png',\n",
              " 'Pneumonia/Viral Pneumonia (1173).png',\n",
              " 'Pneumonia/Viral Pneumonia (1184).png',\n",
              " 'Pneumonia/Viral Pneumonia (1192).png',\n",
              " 'Pneumonia/Viral Pneumonia (1222).png',\n",
              " 'Pneumonia/Viral Pneumonia (1231).png',\n",
              " 'Pneumonia/Viral Pneumonia (128).png',\n",
              " 'Pneumonia/Viral Pneumonia (1281).png',\n",
              " 'Pneumonia/Viral Pneumonia (1290).png',\n",
              " 'Pneumonia/Viral Pneumonia (1309).png',\n",
              " 'Pneumonia/Viral Pneumonia (132).png',\n",
              " 'Pneumonia/Viral Pneumonia (1328).png',\n",
              " 'Pneumonia/Viral Pneumonia (1344).png',\n",
              " 'Pneumonia/Viral Pneumonia (141).png',\n",
              " 'Pneumonia/Viral Pneumonia (158).png',\n",
              " 'Pneumonia/Viral Pneumonia (188).png',\n",
              " 'Pneumonia/Viral Pneumonia (191).png',\n",
              " 'Pneumonia/Viral Pneumonia (210).png',\n",
              " 'Pneumonia/Viral Pneumonia (213).png',\n",
              " 'Pneumonia/Viral Pneumonia (228).png',\n",
              " 'Pneumonia/Viral Pneumonia (259).png',\n",
              " 'Pneumonia/Viral Pneumonia (260).png',\n",
              " 'Pneumonia/Viral Pneumonia (264).png',\n",
              " 'Pneumonia/Viral Pneumonia (315).png',\n",
              " 'Pneumonia/Viral Pneumonia (330).png',\n",
              " 'Pneumonia/Viral Pneumonia (345).png',\n",
              " 'Pneumonia/Viral Pneumonia (361).png',\n",
              " 'Pneumonia/Viral Pneumonia (366).png',\n",
              " 'Pneumonia/Viral Pneumonia (464).png',\n",
              " 'Pneumonia/Viral Pneumonia (470).png',\n",
              " 'Pneumonia/Viral Pneumonia (471).png',\n",
              " 'Pneumonia/Viral Pneumonia (476).png',\n",
              " 'Pneumonia/Viral Pneumonia (504).png',\n",
              " 'Pneumonia/Viral Pneumonia (515).png',\n",
              " 'Pneumonia/Viral Pneumonia (545).png',\n",
              " 'Pneumonia/Viral Pneumonia (557).png',\n",
              " 'Pneumonia/Viral Pneumonia (563).png',\n",
              " 'Pneumonia/Viral Pneumonia (571).png',\n",
              " 'Pneumonia/Viral Pneumonia (582).png',\n",
              " 'Pneumonia/Viral Pneumonia (6).png',\n",
              " 'Pneumonia/Viral Pneumonia (624).png',\n",
              " 'Pneumonia/Viral Pneumonia (646).png',\n",
              " 'Pneumonia/Viral Pneumonia (667).png',\n",
              " 'Pneumonia/Viral Pneumonia (686).png',\n",
              " 'Pneumonia/Viral Pneumonia (711).png',\n",
              " 'Pneumonia/Viral Pneumonia (719).png',\n",
              " 'Pneumonia/Viral Pneumonia (721).png',\n",
              " 'Pneumonia/Viral Pneumonia (731).png',\n",
              " 'Pneumonia/Viral Pneumonia (734).png',\n",
              " 'Pneumonia/Viral Pneumonia (764).png',\n",
              " 'Pneumonia/Viral Pneumonia (779).png',\n",
              " 'Pneumonia/Viral Pneumonia (784).png',\n",
              " 'Pneumonia/Viral Pneumonia (797).png',\n",
              " 'Pneumonia/Viral Pneumonia (806).png',\n",
              " 'Pneumonia/Viral Pneumonia (807).png',\n",
              " 'Pneumonia/Viral Pneumonia (820).png',\n",
              " 'Pneumonia/Viral Pneumonia (822).png',\n",
              " 'Pneumonia/Viral Pneumonia (848).png',\n",
              " 'Pneumonia/Viral Pneumonia (886).png',\n",
              " 'Pneumonia/Viral Pneumonia (89).png',\n",
              " 'Pneumonia/Viral Pneumonia (92).png',\n",
              " 'Pneumonia/Viral Pneumonia (937).png',\n",
              " 'Pneumonia/Viral Pneumonia (966).png',\n",
              " 'Pneumonia/Viral Pneumonia (97).png',\n",
              " 'Pneumonia/Viral Pneumonia (987).png']"
            ]
          },
          "metadata": {},
          "execution_count": 5
        }
      ]
    },
    {
      "cell_type": "code",
      "source": [
        "import os\n",
        "os.listdir('/content/Covid19-dataset/test')"
      ],
      "metadata": {
        "colab": {
          "base_uri": "https://localhost:8080/"
        },
        "id": "Zu_fxy9r__gU",
        "outputId": "6f0015e2-9959-4d78-c909-cd2819266d60"
      },
      "execution_count": 6,
      "outputs": [
        {
          "output_type": "execute_result",
          "data": {
            "text/plain": [
              "['Normal', 'Covid', 'Viral Pneumonia']"
            ]
          },
          "metadata": {},
          "execution_count": 6
        }
      ]
    },
    {
      "cell_type": "code",
      "source": [
        "(train_dataset.class_indices,test_dataset.class_indices)\n"
      ],
      "metadata": {
        "colab": {
          "base_uri": "https://localhost:8080/"
        },
        "id": "9ZNPVrbl__lb",
        "outputId": "0b359951-cf10-4449-b383-3e3fce557142"
      },
      "execution_count": 7,
      "outputs": [
        {
          "output_type": "execute_result",
          "data": {
            "text/plain": [
              "({'Covid': 0, 'Normal': 1, 'Pneumonia': 2},\n",
              " {'Covid': 0, 'Normal': 1, 'Pneumonia': 2})"
            ]
          },
          "metadata": {},
          "execution_count": 7
        }
      ]
    },
    {
      "cell_type": "code",
      "source": [
        "test_dataset[0][0][0].shape"
      ],
      "metadata": {
        "colab": {
          "base_uri": "https://localhost:8080/"
        },
        "id": "OIXNLMxrA2AC",
        "outputId": "933b3629-22b4-402f-cf47-bb67ca3b4ade"
      },
      "execution_count": 8,
      "outputs": [
        {
          "output_type": "execute_result",
          "data": {
            "text/plain": [
              "(200, 200, 3)"
            ]
          },
          "metadata": {},
          "execution_count": 8
        }
      ]
    },
    {
      "cell_type": "code",
      "source": [
        "from tensorflow.keras.applications import vgg16\n",
        "VGG16_covid=vgg16.VGG16(include_top=False,input_shape=(200,200,3))\n",
        "VGG16_covid.summary()"
      ],
      "metadata": {
        "colab": {
          "base_uri": "https://localhost:8080/"
        },
        "id": "d3KwENayA2Ci",
        "outputId": "03d7a6a7-65c1-43de-a0d3-176f1ccc745e"
      },
      "execution_count": 9,
      "outputs": [
        {
          "output_type": "stream",
          "name": "stdout",
          "text": [
            "Model: \"vgg16\"\n",
            "_________________________________________________________________\n",
            " Layer (type)                Output Shape              Param #   \n",
            "=================================================================\n",
            " input_1 (InputLayer)        [(None, 200, 200, 3)]     0         \n",
            "                                                                 \n",
            " block1_conv1 (Conv2D)       (None, 200, 200, 64)      1792      \n",
            "                                                                 \n",
            " block1_conv2 (Conv2D)       (None, 200, 200, 64)      36928     \n",
            "                                                                 \n",
            " block1_pool (MaxPooling2D)  (None, 100, 100, 64)      0         \n",
            "                                                                 \n",
            " block2_conv1 (Conv2D)       (None, 100, 100, 128)     73856     \n",
            "                                                                 \n",
            " block2_conv2 (Conv2D)       (None, 100, 100, 128)     147584    \n",
            "                                                                 \n",
            " block2_pool (MaxPooling2D)  (None, 50, 50, 128)       0         \n",
            "                                                                 \n",
            " block3_conv1 (Conv2D)       (None, 50, 50, 256)       295168    \n",
            "                                                                 \n",
            " block3_conv2 (Conv2D)       (None, 50, 50, 256)       590080    \n",
            "                                                                 \n",
            " block3_conv3 (Conv2D)       (None, 50, 50, 256)       590080    \n",
            "                                                                 \n",
            " block3_pool (MaxPooling2D)  (None, 25, 25, 256)       0         \n",
            "                                                                 \n",
            " block4_conv1 (Conv2D)       (None, 25, 25, 512)       1180160   \n",
            "                                                                 \n",
            " block4_conv2 (Conv2D)       (None, 25, 25, 512)       2359808   \n",
            "                                                                 \n",
            " block4_conv3 (Conv2D)       (None, 25, 25, 512)       2359808   \n",
            "                                                                 \n",
            " block4_pool (MaxPooling2D)  (None, 12, 12, 512)       0         \n",
            "                                                                 \n",
            " block5_conv1 (Conv2D)       (None, 12, 12, 512)       2359808   \n",
            "                                                                 \n",
            " block5_conv2 (Conv2D)       (None, 12, 12, 512)       2359808   \n",
            "                                                                 \n",
            " block5_conv3 (Conv2D)       (None, 12, 12, 512)       2359808   \n",
            "                                                                 \n",
            " block5_pool (MaxPooling2D)  (None, 6, 6, 512)         0         \n",
            "                                                                 \n",
            "=================================================================\n",
            "Total params: 14714688 (56.13 MB)\n",
            "Trainable params: 14714688 (56.13 MB)\n",
            "Non-trainable params: 0 (0.00 Byte)\n",
            "_________________________________________________________________\n"
          ]
        }
      ]
    },
    {
      "cell_type": "code",
      "source": [
        "for layer in VGG16_covid.layers[:]:\n",
        "    layer.trainable = False\n",
        "VGG16_covid.summary()"
      ],
      "metadata": {
        "colab": {
          "base_uri": "https://localhost:8080/"
        },
        "id": "2P_G6YmCBVnV",
        "outputId": "7fc25643-f394-456f-db29-c0693bf9dd21"
      },
      "execution_count": 10,
      "outputs": [
        {
          "output_type": "stream",
          "name": "stdout",
          "text": [
            "Model: \"vgg16\"\n",
            "_________________________________________________________________\n",
            " Layer (type)                Output Shape              Param #   \n",
            "=================================================================\n",
            " input_1 (InputLayer)        [(None, 200, 200, 3)]     0         \n",
            "                                                                 \n",
            " block1_conv1 (Conv2D)       (None, 200, 200, 64)      1792      \n",
            "                                                                 \n",
            " block1_conv2 (Conv2D)       (None, 200, 200, 64)      36928     \n",
            "                                                                 \n",
            " block1_pool (MaxPooling2D)  (None, 100, 100, 64)      0         \n",
            "                                                                 \n",
            " block2_conv1 (Conv2D)       (None, 100, 100, 128)     73856     \n",
            "                                                                 \n",
            " block2_conv2 (Conv2D)       (None, 100, 100, 128)     147584    \n",
            "                                                                 \n",
            " block2_pool (MaxPooling2D)  (None, 50, 50, 128)       0         \n",
            "                                                                 \n",
            " block3_conv1 (Conv2D)       (None, 50, 50, 256)       295168    \n",
            "                                                                 \n",
            " block3_conv2 (Conv2D)       (None, 50, 50, 256)       590080    \n",
            "                                                                 \n",
            " block3_conv3 (Conv2D)       (None, 50, 50, 256)       590080    \n",
            "                                                                 \n",
            " block3_pool (MaxPooling2D)  (None, 25, 25, 256)       0         \n",
            "                                                                 \n",
            " block4_conv1 (Conv2D)       (None, 25, 25, 512)       1180160   \n",
            "                                                                 \n",
            " block4_conv2 (Conv2D)       (None, 25, 25, 512)       2359808   \n",
            "                                                                 \n",
            " block4_conv3 (Conv2D)       (None, 25, 25, 512)       2359808   \n",
            "                                                                 \n",
            " block4_pool (MaxPooling2D)  (None, 12, 12, 512)       0         \n",
            "                                                                 \n",
            " block5_conv1 (Conv2D)       (None, 12, 12, 512)       2359808   \n",
            "                                                                 \n",
            " block5_conv2 (Conv2D)       (None, 12, 12, 512)       2359808   \n",
            "                                                                 \n",
            " block5_conv3 (Conv2D)       (None, 12, 12, 512)       2359808   \n",
            "                                                                 \n",
            " block5_pool (MaxPooling2D)  (None, 6, 6, 512)         0         \n",
            "                                                                 \n",
            "=================================================================\n",
            "Total params: 14714688 (56.13 MB)\n",
            "Trainable params: 0 (0.00 Byte)\n",
            "Non-trainable params: 14714688 (56.13 MB)\n",
            "_________________________________________________________________\n"
          ]
        }
      ]
    },
    {
      "cell_type": "code",
      "source": [
        "model = Sequential()\n",
        "model.add(VGG16_covid)\n",
        "model.add(Flatten())\n",
        "model.add(Dense(4096, activation='relu'))\n",
        "model.add(Dense(4096, activation='relu'))\n",
        "model.add(Dropout(0.25))\n",
        "model.add(Dense(3, activation='softmax'))\n",
        "model.summary()\n"
      ],
      "metadata": {
        "colab": {
          "base_uri": "https://localhost:8080/"
        },
        "id": "6oEZ_XpeBZ0T",
        "outputId": "d1545070-cf1f-4a25-ac66-f575e7e60922"
      },
      "execution_count": 11,
      "outputs": [
        {
          "output_type": "stream",
          "name": "stdout",
          "text": [
            "Model: \"sequential\"\n",
            "_________________________________________________________________\n",
            " Layer (type)                Output Shape              Param #   \n",
            "=================================================================\n",
            " vgg16 (Functional)          (None, 6, 6, 512)         14714688  \n",
            "                                                                 \n",
            " flatten (Flatten)           (None, 18432)             0         \n",
            "                                                                 \n",
            " dense (Dense)               (None, 4096)              75501568  \n",
            "                                                                 \n",
            " dense_1 (Dense)             (None, 4096)              16781312  \n",
            "                                                                 \n",
            " dropout (Dropout)           (None, 4096)              0         \n",
            "                                                                 \n",
            " dense_2 (Dense)             (None, 3)                 12291     \n",
            "                                                                 \n",
            "=================================================================\n",
            "Total params: 107009859 (408.21 MB)\n",
            "Trainable params: 92295171 (352.08 MB)\n",
            "Non-trainable params: 14714688 (56.13 MB)\n",
            "_________________________________________________________________\n"
          ]
        }
      ]
    },
    {
      "cell_type": "code",
      "source": [
        " model.compile(loss='categorical_crossentropy',optimizer=\"adam\",metrics=['accuracy'])"
      ],
      "metadata": {
        "id": "AENl0NeICvxq"
      },
      "execution_count": 12,
      "outputs": []
    },
    {
      "cell_type": "code",
      "source": [
        "batch_size=128\n",
        "model.fit(train_dataset, epochs=10,validation_data=test_dataset, steps_per_epoch=len(train_dataset),\n",
        "          validation_steps=len(test_dataset),callbacks=keras.callbacks.EarlyStopping(patience=5,restore_best_weights=True)\n",
        "                  )"
      ],
      "metadata": {
        "colab": {
          "base_uri": "https://localhost:8080/"
        },
        "id": "1xVbMbBjC6Vb",
        "outputId": "6804777a-1aed-4b94-fd4c-64aae9a57f17"
      },
      "execution_count": 13,
      "outputs": [
        {
          "output_type": "stream",
          "name": "stdout",
          "text": [
            "Epoch 1/10\n",
            "7/7 [==============================] - 57s 6s/step - loss: 27.3818 - accuracy: 0.2701 - val_loss: 1.8514 - val_accuracy: 0.3349\n",
            "Epoch 2/10\n",
            "7/7 [==============================] - 22s 3s/step - loss: 1.6226 - accuracy: 0.1391 - val_loss: 0.9835 - val_accuracy: 0.6239\n",
            "Epoch 3/10\n",
            "7/7 [==============================] - 22s 3s/step - loss: 0.9930 - accuracy: 0.5586 - val_loss: 0.7574 - val_accuracy: 0.7706\n",
            "Epoch 4/10\n",
            "7/7 [==============================] - 22s 3s/step - loss: 0.6853 - accuracy: 0.7149 - val_loss: 0.4251 - val_accuracy: 0.8349\n",
            "Epoch 5/10\n",
            "7/7 [==============================] - 22s 3s/step - loss: 0.4947 - accuracy: 0.7874 - val_loss: 0.5909 - val_accuracy: 0.6927\n",
            "Epoch 6/10\n",
            "7/7 [==============================] - 22s 3s/step - loss: 0.6912 - accuracy: 0.6552 - val_loss: 0.2816 - val_accuracy: 0.9174\n",
            "Epoch 7/10\n",
            "7/7 [==============================] - 21s 3s/step - loss: 0.3859 - accuracy: 0.8322 - val_loss: 0.2004 - val_accuracy: 0.9450\n",
            "Epoch 8/10\n",
            "7/7 [==============================] - 22s 3s/step - loss: 0.1781 - accuracy: 0.9471 - val_loss: 0.1801 - val_accuracy: 0.9450\n",
            "Epoch 9/10\n",
            "7/7 [==============================] - 22s 3s/step - loss: 0.1980 - accuracy: 0.9195 - val_loss: 0.1546 - val_accuracy: 0.9450\n",
            "Epoch 10/10\n",
            "7/7 [==============================] - 22s 3s/step - loss: 0.1533 - accuracy: 0.9460 - val_loss: 0.1157 - val_accuracy: 0.9587\n"
          ]
        },
        {
          "output_type": "execute_result",
          "data": {
            "text/plain": [
              "<keras.src.callbacks.History at 0x7df52c120340>"
            ]
          },
          "metadata": {},
          "execution_count": 13
        }
      ]
    },
    {
      "cell_type": "code",
      "source": [
        "model.evaluate(train_dataset)\n"
      ],
      "metadata": {
        "colab": {
          "base_uri": "https://localhost:8080/"
        },
        "id": "iLxACPKdC6YI",
        "outputId": "59dff7ed-5f36-480f-90a9-03e6d9bba3c5"
      },
      "execution_count": 14,
      "outputs": [
        {
          "output_type": "stream",
          "name": "stdout",
          "text": [
            "7/7 [==============================] - 17s 2s/step - loss: 0.1114 - accuracy: 0.9667\n"
          ]
        },
        {
          "output_type": "execute_result",
          "data": {
            "text/plain": [
              "[0.11136461794376373, 0.9666666388511658]"
            ]
          },
          "metadata": {},
          "execution_count": 14
        }
      ]
    },
    {
      "cell_type": "code",
      "source": [
        "model.evaluate(test_dataset)"
      ],
      "metadata": {
        "colab": {
          "base_uri": "https://localhost:8080/"
        },
        "id": "LsMzuv4lC6bB",
        "outputId": "84a91d2a-cd88-41ef-ffd1-16b7235c53aa"
      },
      "execution_count": 15,
      "outputs": [
        {
          "output_type": "stream",
          "name": "stdout",
          "text": [
            "2/2 [==============================] - 5s 2s/step - loss: 0.1157 - accuracy: 0.9587\n"
          ]
        },
        {
          "output_type": "execute_result",
          "data": {
            "text/plain": [
              "[0.11569029837846756, 0.9587156176567078]"
            ]
          },
          "metadata": {},
          "execution_count": 15
        }
      ]
    },
    {
      "cell_type": "code",
      "source": [
        "model.save('VGG16_covid_19')\n"
      ],
      "metadata": {
        "id": "wYPsRMqyC6dA"
      },
      "execution_count": 16,
      "outputs": []
    },
    {
      "cell_type": "code",
      "source": [
        "y_predict = model.predict(test_dataset)\n",
        "\n",
        "predicted_classes = np.argmax(y_predict, axis=1)\n",
        "\n",
        "class_labels = ['covid', 'normal', 'pneumonia']\n",
        "predicted_labels = [class_labels[prediction] for prediction in predicted_classes]\n",
        "\n",
        "print(\"Predicted labels:\", predicted_labels)\n",
        "print(predicted_classes)"
      ],
      "metadata": {
        "colab": {
          "base_uri": "https://localhost:8080/"
        },
        "id": "_ZCxKqO1C6fZ",
        "outputId": "2c06958d-92da-448d-c127-4df53ce1a0c8"
      },
      "execution_count": 29,
      "outputs": [
        {
          "output_type": "stream",
          "name": "stdout",
          "text": [
            "2/2 [==============================] - 5s 2s/step\n",
            "Predicted labels: ['covid', 'covid', 'covid', 'covid', 'covid', 'covid', 'covid', 'covid', 'covid', 'covid', 'covid', 'covid', 'covid', 'covid', 'covid', 'covid', 'covid', 'covid', 'covid', 'covid', 'covid', 'covid', 'covid', 'covid', 'covid', 'covid', 'covid', 'covid', 'covid', 'covid', 'covid', 'covid', 'covid', 'covid', 'covid', 'covid', 'covid', 'covid', 'covid', 'covid', 'covid', 'covid', 'covid', 'covid', 'covid', 'covid', 'covid', 'covid', 'covid', 'covid', 'covid', 'covid', 'covid', 'covid', 'pneumonia', 'covid', 'covid', 'covid', 'covid', 'covid', 'covid', 'covid', 'covid', 'covid', 'covid', 'covid', 'covid', 'covid', 'covid', 'covid', 'covid', 'covid', 'normal', 'normal', 'normal', 'normal', 'normal', 'normal', 'normal', 'normal', 'normal', 'normal', 'normal', 'normal', 'normal', 'normal', 'normal', 'normal', 'normal', 'normal', 'normal', 'normal', 'normal', 'normal', 'normal', 'normal', 'normal', 'normal', 'normal', 'pneumonia', 'normal', 'normal', 'normal', 'normal', 'normal', 'normal', 'pneumonia', 'normal', 'normal', 'pneumonia', 'normal', 'normal', 'normal', 'normal', 'normal', 'normal', 'normal', 'normal', 'normal', 'normal', 'normal', 'covid', 'normal', 'normal', 'normal', 'normal', 'normal', 'normal', 'normal', 'normal', 'normal', 'normal', 'normal', 'pneumonia', 'normal', 'normal', 'normal', 'normal', 'normal', 'normal', 'normal', 'normal', 'normal', 'normal', 'normal', 'pneumonia', 'pneumonia', 'pneumonia', 'pneumonia', 'pneumonia', 'pneumonia', 'pneumonia', 'pneumonia', 'pneumonia', 'pneumonia', 'pneumonia', 'pneumonia', 'pneumonia', 'pneumonia', 'pneumonia', 'pneumonia', 'pneumonia', 'pneumonia', 'pneumonia', 'pneumonia', 'pneumonia', 'normal', 'pneumonia', 'pneumonia', 'pneumonia', 'pneumonia', 'pneumonia', 'pneumonia', 'pneumonia', 'pneumonia', 'pneumonia', 'pneumonia', 'pneumonia', 'pneumonia', 'pneumonia', 'normal', 'pneumonia', 'pneumonia', 'pneumonia', 'pneumonia', 'pneumonia', 'pneumonia', 'pneumonia', 'pneumonia', 'pneumonia', 'pneumonia', 'pneumonia', 'pneumonia', 'pneumonia', 'pneumonia', 'pneumonia', 'normal', 'pneumonia', 'pneumonia', 'pneumonia', 'pneumonia', 'pneumonia', 'pneumonia', 'pneumonia', 'pneumonia', 'pneumonia', 'pneumonia', 'pneumonia', 'pneumonia', 'pneumonia', 'pneumonia', 'pneumonia', 'pneumonia', 'pneumonia', 'pneumonia', 'pneumonia', 'pneumonia', 'pneumonia']\n",
            "[0 0 0 0 0 0 0 0 0 0 0 0 0 0 0 0 0 0 0 0 0 0 0 0 0 0 0 0 0 0 0 0 0 0 0 0 0\n",
            " 0 0 0 0 0 0 0 0 0 0 0 0 0 0 0 0 0 2 0 0 0 0 0 0 0 0 0 0 0 0 0 0 0 0 0 1 1\n",
            " 1 1 1 1 1 1 1 1 1 1 1 1 1 1 1 1 1 1 1 1 1 1 1 1 1 2 1 1 1 1 1 1 2 1 1 2 1\n",
            " 1 1 1 1 1 1 1 1 1 1 0 1 1 1 1 1 1 1 1 1 1 1 2 1 1 1 1 1 1 1 1 1 1 1 2 2 2\n",
            " 2 2 2 2 2 2 2 2 2 2 2 2 2 2 2 2 2 2 1 2 2 2 2 2 2 2 2 2 2 2 2 2 1 2 2 2 2\n",
            " 2 2 2 2 2 2 2 2 2 2 2 1 2 2 2 2 2 2 2 2 2 2 2 2 2 2 2 2 2 2 2 2 2]\n"
          ]
        }
      ]
    },
    {
      "cell_type": "code",
      "source": [
        "image1=load_img(\"/content/x-ray-image-2b_full.jpg\" ,target_size=(200,200))\n",
        "image1"
      ],
      "metadata": {
        "colab": {
          "base_uri": "https://localhost:8080/",
          "height": 217
        },
        "id": "Tpy-SKm9Ir7l",
        "outputId": "571da3fd-b8ed-46ab-c17e-c6d7c5a7e3c4"
      },
      "execution_count": 30,
      "outputs": [
        {
          "output_type": "execute_result",
          "data": {
            "text/plain": [
              "<PIL.Image.Image image mode=RGB size=200x200>"
            ],
            "image/png": "[encoded data removed]"
          },
          "metadata": {},
          "execution_count": 30
        }
      ]
    },
    {
      "cell_type": "code",
      "source": [
        "image1 =tf.keras.preprocessing.image.img_to_array(image1)\n",
        "image1.shape\n",
        "image1 = image1/255\n",
        "image1 =np.expand_dims(image1, axis =0)\n",
        "image1.shape\n"
      ],
      "metadata": {
        "colab": {
          "base_uri": "https://localhost:8080/"
        },
        "id": "zMGeNFz0JJF0",
        "outputId": "bc329c51-75be-48d6-e69b-089cb4287499"
      },
      "execution_count": 31,
      "outputs": [
        {
          "output_type": "execute_result",
          "data": {
            "text/plain": [
              "(1, 200, 200, 3)"
            ]
          },
          "metadata": {},
          "execution_count": 31
        }
      ]
    },
    {
      "cell_type": "code",
      "source": [
        "test_dataset.classes"
      ],
      "metadata": {
        "colab": {
          "base_uri": "https://localhost:8080/"
        },
        "id": "CZFiuBXEbs2R",
        "outputId": "8086395d-0d49-4df9-e005-8feb3b46852f"
      },
      "execution_count": 32,
      "outputs": [
        {
          "output_type": "execute_result",
          "data": {
            "text/plain": [
              "array([0, 0, 0, 0, 0, 0, 0, 0, 0, 0, 0, 0, 0, 0, 0, 0, 0, 0, 0, 0, 0, 0,\n",
              "       0, 0, 0, 0, 0, 0, 0, 0, 0, 0, 0, 0, 0, 0, 0, 0, 0, 0, 0, 0, 0, 0,\n",
              "       0, 0, 0, 0, 0, 0, 0, 0, 0, 0, 0, 0, 0, 0, 0, 0, 0, 0, 0, 0, 0, 0,\n",
              "       0, 0, 0, 0, 0, 0, 1, 1, 1, 1, 1, 1, 1, 1, 1, 1, 1, 1, 1, 1, 1, 1,\n",
              "       1, 1, 1, 1, 1, 1, 1, 1, 1, 1, 1, 1, 1, 1, 1, 1, 1, 1, 1, 1, 1, 1,\n",
              "       1, 1, 1, 1, 1, 1, 1, 1, 1, 1, 1, 1, 1, 1, 1, 1, 1, 1, 1, 1, 1, 1,\n",
              "       1, 1, 1, 1, 1, 1, 1, 1, 1, 1, 1, 1, 1, 2, 2, 2, 2, 2, 2, 2, 2, 2,\n",
              "       2, 2, 2, 2, 2, 2, 2, 2, 2, 2, 2, 2, 2, 2, 2, 2, 2, 2, 2, 2, 2, 2,\n",
              "       2, 2, 2, 2, 2, 2, 2, 2, 2, 2, 2, 2, 2, 2, 2, 2, 2, 2, 2, 2, 2, 2,\n",
              "       2, 2, 2, 2, 2, 2, 2, 2, 2, 2, 2, 2, 2, 2, 2, 2, 2, 2, 2, 2],\n",
              "      dtype=int32)"
            ]
          },
          "metadata": {},
          "execution_count": 32
        }
      ]
    },
    {
      "cell_type": "code",
      "source": [
        "predicted_classes"
      ],
      "metadata": {
        "colab": {
          "base_uri": "https://localhost:8080/"
        },
        "id": "5KLyGwdrbv_Q",
        "outputId": "ce75d5ed-3c8b-495e-f332-2f030e52a6f3"
      },
      "execution_count": 33,
      "outputs": [
        {
          "output_type": "execute_result",
          "data": {
            "text/plain": [
              "array([0, 0, 0, 0, 0, 0, 0, 0, 0, 0, 0, 0, 0, 0, 0, 0, 0, 0, 0, 0, 0, 0,\n",
              "       0, 0, 0, 0, 0, 0, 0, 0, 0, 0, 0, 0, 0, 0, 0, 0, 0, 0, 0, 0, 0, 0,\n",
              "       0, 0, 0, 0, 0, 0, 0, 0, 0, 0, 2, 0, 0, 0, 0, 0, 0, 0, 0, 0, 0, 0,\n",
              "       0, 0, 0, 0, 0, 0, 1, 1, 1, 1, 1, 1, 1, 1, 1, 1, 1, 1, 1, 1, 1, 1,\n",
              "       1, 1, 1, 1, 1, 1, 1, 1, 1, 1, 1, 2, 1, 1, 1, 1, 1, 1, 2, 1, 1, 2,\n",
              "       1, 1, 1, 1, 1, 1, 1, 1, 1, 1, 1, 0, 1, 1, 1, 1, 1, 1, 1, 1, 1, 1,\n",
              "       1, 2, 1, 1, 1, 1, 1, 1, 1, 1, 1, 1, 1, 2, 2, 2, 2, 2, 2, 2, 2, 2,\n",
              "       2, 2, 2, 2, 2, 2, 2, 2, 2, 2, 2, 2, 1, 2, 2, 2, 2, 2, 2, 2, 2, 2,\n",
              "       2, 2, 2, 2, 1, 2, 2, 2, 2, 2, 2, 2, 2, 2, 2, 2, 2, 2, 2, 2, 1, 2,\n",
              "       2, 2, 2, 2, 2, 2, 2, 2, 2, 2, 2, 2, 2, 2, 2, 2, 2, 2, 2, 2])"
            ]
          },
          "metadata": {},
          "execution_count": 33
        }
      ]
    },
    {
      "cell_type": "code",
      "source": [
        "image_predict = model.predict(image1)\n",
        "predicted_img = np.argmax(image_predict, axis=1)\n",
        "class_labels = ['covid', 'normal', 'pneumonia']\n",
        "predicted_labels = [class_labels[prediction] for prediction in predicted_img]\n",
        "print(\"Predicted labels:\", predicted_labels)"
      ],
      "metadata": {
        "colab": {
          "base_uri": "https://localhost:8080/"
        },
        "id": "rIfWEKwiS2mA",
        "outputId": "bdbc34a1-c483-4748-d14e-8dd264e48dfc"
      },
      "execution_count": 34,
      "outputs": [
        {
          "output_type": "stream",
          "name": "stdout",
          "text": [
            "1/1 [==============================] - 0s 20ms/step\n",
            "Predicted labels: ['covid']\n"
          ]
        }
      ]
    },
    {
      "cell_type": "code",
      "source": [
        "import pandas as pd\n",
        "df =pd.DataFrame({'filename':test_dataset.filenames,'y_true':test_dataset.classes,'y_predict': predicted_classes[:]})\n",
        "df\n"
      ],
      "metadata": {
        "colab": {
          "base_uri": "https://localhost:8080/",
          "height": 423
        },
        "id": "NAIO0LDMQegG",
        "outputId": "9a470bce-0787-492b-e955-f71125145388"
      },
      "execution_count": 35,
      "outputs": [
        {
          "output_type": "execute_result",
          "data": {
            "text/plain": [
              "                                              filename  y_true  y_predict\n",
              "0    Covid/1-s2.0-S1684118220300682-main.pdf-002-a2...       0          0\n",
              "1    Covid/1-s2.0-S1684118220300682-main.pdf-003-b1...       0          0\n",
              "2    Covid/1.CXRCTThoraximagesofCOVID-19fromSingapo...       0          0\n",
              "3    Covid/1.CXRCTThoraximagesofCOVID-19fromSingapo...       0          0\n",
              "4                                  Covid/16654_4_1.jpg       0          0\n",
              "..                                                 ...     ...        ...\n",
              "213                 Pneumonia/Viral Pneumonia (92).png       2          2\n",
              "214                Pneumonia/Viral Pneumonia (937).png       2          2\n",
              "215                Pneumonia/Viral Pneumonia (966).png       2          2\n",
              "216                 Pneumonia/Viral Pneumonia (97).png       2          2\n",
              "217                Pneumonia/Viral Pneumonia (987).png       2          2\n",
              "\n",
              "[218 rows x 3 columns]"
            ],
            "text/html": [
              "\n",
              "  <div id=\"df-c942eb2c-0e3c-40a5-a5a4-0eb534997347\" class=\"colab-df-container\">\n",
              "    <div>\n",
              "<style scoped>\n",
              "    .dataframe tbody tr th:only-of-type {\n",
              "        vertical-align: middle;\n",
              "    }\n",
              "\n",
              "    .dataframe tbody tr th {\n",
              "        vertical-align: top;\n",
              "    }\n",
              "\n",
              "    .dataframe thead th {\n",
              "        text-align: right;\n",
              "    }\n",
              "</style>\n",
              "<table border=\"1\" class=\"dataframe\">\n",
              "  <thead>\n",
              "    <tr style=\"text-align: right;\">\n",
              "      <th></th>\n",
              "      <th>filename</th>\n",
              "      <th>y_true</th>\n",
              "      <th>y_predict</th>\n",
              "    </tr>\n",
              "  </thead>\n",
              "  <tbody>\n",
              "    <tr>\n",
              "      <th>0</th>\n",
              "      <td>Covid/1-s2.0-S1684118220300682-main.pdf-002-a2...</td>\n",
              "      <td>0</td>\n",
              "      <td>0</td>\n",
              "    </tr>\n",
              "    <tr>\n",
              "      <th>1</th>\n",
              "      <td>Covid/1-s2.0-S1684118220300682-main.pdf-003-b1...</td>\n",
              "      <td>0</td>\n",
              "      <td>0</td>\n",
              "    </tr>\n",
              "    <tr>\n",
              "      <th>2</th>\n",
              "      <td>Covid/1.CXRCTThoraximagesofCOVID-19fromSingapo...</td>\n",
              "      <td>0</td>\n",
              "      <td>0</td>\n",
              "    </tr>\n",
              "    <tr>\n",
              "      <th>3</th>\n",
              "      <td>Covid/1.CXRCTThoraximagesofCOVID-19fromSingapo...</td>\n",
              "      <td>0</td>\n",
              "      <td>0</td>\n",
              "    </tr>\n",
              "    <tr>\n",
              "      <th>4</th>\n",
              "      <td>Covid/16654_4_1.jpg</td>\n",
              "      <td>0</td>\n",
              "      <td>0</td>\n",
              "    </tr>\n",
              "    <tr>\n",
              "      <th>...</th>\n",
              "      <td>...</td>\n",
              "      <td>...</td>\n",
              "      <td>...</td>\n",
              "    </tr>\n",
              "    <tr>\n",
              "      <th>213</th>\n",
              "      <td>Pneumonia/Viral Pneumonia (92).png</td>\n",
              "      <td>2</td>\n",
              "      <td>2</td>\n",
              "    </tr>\n",
              "    <tr>\n",
              "      <th>214</th>\n",
              "      <td>Pneumonia/Viral Pneumonia (937).png</td>\n",
              "      <td>2</td>\n",
              "      <td>2</td>\n",
              "    </tr>\n",
              "    <tr>\n",
              "      <th>215</th>\n",
              "      <td>Pneumonia/Viral Pneumonia (966).png</td>\n",
              "      <td>2</td>\n",
              "      <td>2</td>\n",
              "    </tr>\n",
              "    <tr>\n",
              "      <th>216</th>\n",
              "      <td>Pneumonia/Viral Pneumonia (97).png</td>\n",
              "      <td>2</td>\n",
              "      <td>2</td>\n",
              "    </tr>\n",
              "    <tr>\n",
              "      <th>217</th>\n",
              "      <td>Pneumonia/Viral Pneumonia (987).png</td>\n",
              "      <td>2</td>\n",
              "      <td>2</td>\n",
              "    </tr>\n",
              "  </tbody>\n",
              "</table>\n",
              "<p>218 rows × 3 columns</p>\n",
              "</div>\n",
              "    <div class=\"colab-df-buttons\">\n",
              "\n",
              "  <div class=\"colab-df-container\">\n",
              "    <button class=\"colab-df-convert\" onclick=\"convertToInteractive('df-c942eb2c-0e3c-40a5-a5a4-0eb534997347')\"\n",
              "            title=\"Convert this dataframe to an interactive table.\"\n",
              "            style=\"display:none;\">\n",
              "\n",
              "  <svg xmlns=\"http://www.w3.org/2000/svg\" height=\"24px\" viewBox=\"0 -960 960 960\">\n",
              "    <path d=\"M120-120v-720h720v720H120Zm60-500h600v-160H180v160Zm220 220h160v-160H400v160Zm0 220h160v-160H400v160ZM180-400h160v-160H180v160Zm440 0h160v-160H620v160ZM180-180h160v-160H180v160Zm440 0h160v-160H620v160Z\"/>\n",
              "  </svg>\n",
              "    </button>\n",
              "\n",
              "  <style>\n",
              "    .colab-df-container {\n",
              "      display:flex;\n",
              "      gap: 12px;\n",
              "    }\n",
              "\n",
              "    .colab-df-convert {\n",
              "      background-color: #E8F0FE;\n",
              "      border: none;\n",
              "      border-radius: 50%;\n",
              "      cursor: pointer;\n",
              "      display: none;\n",
              "      fill: #1967D2;\n",
              "      height: 32px;\n",
              "      padding: 0 0 0 0;\n",
              "      width: 32px;\n",
              "    }\n",
              "\n",
              "    .colab-df-convert:hover {\n",
              "      background-color: #E2EBFA;\n",
              "      box-shadow: 0px 1px 2px rgba(60, 64, 67, 0.3), 0px 1px 3px 1px rgba(60, 64, 67, 0.15);\n",
              "      fill: #174EA6;\n",
              "    }\n",
              "\n",
              "    .colab-df-buttons div {\n",
              "      margin-bottom: 4px;\n",
              "    }\n",
              "\n",
              "    [theme=dark] .colab-df-convert {\n",
              "      background-color: #3B4455;\n",
              "      fill: #D2E3FC;\n",
              "    }\n",
              "\n",
              "    [theme=dark] .colab-df-convert:hover {\n",
              "      background-color: #434B5C;\n",
              "      box-shadow: 0px 1px 3px 1px rgba(0, 0, 0, 0.15);\n",
              "      filter: drop-shadow(0px 1px 2px rgba(0, 0, 0, 0.3));\n",
              "      fill: #FFFFFF;\n",
              "    }\n",
              "  </style>\n",
              "\n",
              "    <script>\n",
              "      const buttonEl =\n",
              "        document.querySelector('#df-c942eb2c-0e3c-40a5-a5a4-0eb534997347 button.colab-df-convert');\n",
              "      buttonEl.style.display =\n",
              "        google.colab.kernel.accessAllowed ? 'block' : 'none';\n",
              "\n",
              "      async function convertToInteractive(key) {\n",
              "        const element = document.querySelector('#df-c942eb2c-0e3c-40a5-a5a4-0eb534997347');\n",
              "        const dataTable =\n",
              "          await google.colab.kernel.invokeFunction('convertToInteractive',\n",
              "                                                    [key], {});\n",
              "        if (!dataTable) return;\n",
              "\n",
              "        const docLinkHtml = 'Like what you see? Visit the ' +\n",
              "          '<a target=\"_blank\" href=https://colab.research.google.com/notebooks/data_table.ipynb>data table notebook</a>'\n",
              "          + ' to learn more about interactive tables.';\n",
              "        element.innerHTML = '';\n",
              "        dataTable['output_type'] = 'display_data';\n",
              "        await google.colab.output.renderOutput(dataTable, element);\n",
              "        const docLink = document.createElement('div');\n",
              "        docLink.innerHTML = docLinkHtml;\n",
              "        element.appendChild(docLink);\n",
              "      }\n",
              "    </script>\n",
              "  </div>\n",
              "\n",
              "\n",
              "<div id=\"df-57ff9c5a-03a9-49a6-aa1a-bb89cd2d18d0\">\n",
              "  <button class=\"colab-df-quickchart\" onclick=\"quickchart('df-57ff9c5a-03a9-49a6-aa1a-bb89cd2d18d0')\"\n",
              "            title=\"Suggest charts.\"\n",
              "            style=\"display:none;\">\n",
              "\n",
              "<svg xmlns=\"http://www.w3.org/2000/svg\" height=\"24px\"viewBox=\"0 0 24 24\"\n",
              "     width=\"24px\">\n",
              "    <g>\n",
              "        <path d=\"M19 3H5c-1.1 0-2 .9-2 2v14c0 1.1.9 2 2 2h14c1.1 0 2-.9 2-2V5c0-1.1-.9-2-2-2zM9 17H7v-7h2v7zm4 0h-2V7h2v10zm4 0h-2v-4h2v4z\"/>\n",
              "    </g>\n",
              "</svg>\n",
              "  </button>\n",
              "\n",
              "<style>\n",
              "  .colab-df-quickchart {\n",
              "      --bg-color: #E8F0FE;\n",
              "      --fill-color: #1967D2;\n",
              "      --hover-bg-color: #E2EBFA;\n",
              "      --hover-fill-color: #174EA6;\n",
              "      --disabled-fill-color: #AAA;\n",
              "      --disabled-bg-color: #DDD;\n",
              "  }\n",
              "\n",
              "  [theme=dark] .colab-df-quickchart {\n",
              "      --bg-color: #3B4455;\n",
              "      --fill-color: #D2E3FC;\n",
              "      --hover-bg-color: #434B5C;\n",
              "      --hover-fill-color: #FFFFFF;\n",
              "      --disabled-bg-color: #3B4455;\n",
              "      --disabled-fill-color: #666;\n",
              "  }\n",
              "\n",
              "  .colab-df-quickchart {\n",
              "    background-color: var(--bg-color);\n",
              "    border: none;\n",
              "    border-radius: 50%;\n",
              "    cursor: pointer;\n",
              "    display: none;\n",
              "    fill: var(--fill-color);\n",
              "    height: 32px;\n",
              "    padding: 0;\n",
              "    width: 32px;\n",
              "  }\n",
              "\n",
              "  .colab-df-quickchart:hover {\n",
              "    background-color: var(--hover-bg-color);\n",
              "    box-shadow: 0 1px 2px rgba(60, 64, 67, 0.3), 0 1px 3px 1px rgba(60, 64, 67, 0.15);\n",
              "    fill: var(--button-hover-fill-color);\n",
              "  }\n",
              "\n",
              "  .colab-df-quickchart-complete:disabled,\n",
              "  .colab-df-quickchart-complete:disabled:hover {\n",
              "    background-color: var(--disabled-bg-color);\n",
              "    fill: var(--disabled-fill-color);\n",
              "    box-shadow: none;\n",
              "  }\n",
              "\n",
              "  .colab-df-spinner {\n",
              "    border: 2px solid var(--fill-color);\n",
              "    border-color: transparent;\n",
              "    border-bottom-color: var(--fill-color);\n",
              "    animation:\n",
              "      spin 1s steps(1) infinite;\n",
              "  }\n",
              "\n",
              "  @keyframes spin {\n",
              "    0% {\n",
              "      border-color: transparent;\n",
              "      border-bottom-color: var(--fill-color);\n",
              "      border-left-color: var(--fill-color);\n",
              "    }\n",
              "    20% {\n",
              "      border-color: transparent;\n",
              "      border-left-color: var(--fill-color);\n",
              "      border-top-color: var(--fill-color);\n",
              "    }\n",
              "    30% {\n",
              "      border-color: transparent;\n",
              "      border-left-color: var(--fill-color);\n",
              "      border-top-color: var(--fill-color);\n",
              "      border-right-color: var(--fill-color);\n",
              "    }\n",
              "    40% {\n",
              "      border-color: transparent;\n",
              "      border-right-color: var(--fill-color);\n",
              "      border-top-color: var(--fill-color);\n",
              "    }\n",
              "    60% {\n",
              "      border-color: transparent;\n",
              "      border-right-color: var(--fill-color);\n",
              "    }\n",
              "    80% {\n",
              "      border-color: transparent;\n",
              "      border-right-color: var(--fill-color);\n",
              "      border-bottom-color: var(--fill-color);\n",
              "    }\n",
              "    90% {\n",
              "      border-color: transparent;\n",
              "      border-bottom-color: var(--fill-color);\n",
              "    }\n",
              "  }\n",
              "</style>\n",
              "\n",
              "  <script>\n",
              "    async function quickchart(key) {\n",
              "      const quickchartButtonEl =\n",
              "        document.querySelector('#' + key + ' button');\n",
              "      quickchartButtonEl.disabled = true;  // To prevent multiple clicks.\n",
              "      quickchartButtonEl.classList.add('colab-df-spinner');\n",
              "      try {\n",
              "        const charts = await google.colab.kernel.invokeFunction(\n",
              "            'suggestCharts', [key], {});\n",
              "      } catch (error) {\n",
              "        console.error('Error during call to suggestCharts:', error);\n",
              "      }\n",
              "      quickchartButtonEl.classList.remove('colab-df-spinner');\n",
              "      quickchartButtonEl.classList.add('colab-df-quickchart-complete');\n",
              "    }\n",
              "    (() => {\n",
              "      let quickchartButtonEl =\n",
              "        document.querySelector('#df-57ff9c5a-03a9-49a6-aa1a-bb89cd2d18d0 button');\n",
              "      quickchartButtonEl.style.display =\n",
              "        google.colab.kernel.accessAllowed ? 'block' : 'none';\n",
              "    })();\n",
              "  </script>\n",
              "</div>\n",
              "    </div>\n",
              "  </div>\n"
            ]
          },
          "metadata": {},
          "execution_count": 35
        }
      ]
    },
    {
      "cell_type": "code",
      "source": [
        "misclassification=df[df['y_true']!=df['y_predict']]\n",
        "misclassification"
      ],
      "metadata": {
        "colab": {
          "base_uri": "https://localhost:8080/",
          "height": 331
        },
        "id": "GLhy5k1vQhQk",
        "outputId": "cd613715-9cb2-436b-c5bd-c65e95075730"
      },
      "execution_count": 36,
      "outputs": [
        {
          "output_type": "execute_result",
          "data": {
            "text/plain": [
              "                                filename  y_true  y_predict\n",
              "54               Covid/COVID-19(193).png       0          2\n",
              "99              Normal/NORMAL (1339).png       1          2\n",
              "106              Normal/NORMAL (233).png       1          2\n",
              "109              Normal/NORMAL (357).png       1          2\n",
              "121              Normal/NORMAL (646).png       1          0\n",
              "133              Normal/NORMAL (842).png       1          2\n",
              "166  Pneumonia/Viral Pneumonia (141).png       2          1\n",
              "180  Pneumonia/Viral Pneumonia (366).png       2          1\n",
              "196  Pneumonia/Viral Pneumonia (686).png       2          1"
            ],
            "text/html": [
              "\n",
              "  <div id=\"df-7a3cf1a8-c690-4477-8385-939f9477e013\" class=\"colab-df-container\">\n",
              "    <div>\n",
              "<style scoped>\n",
              "    .dataframe tbody tr th:only-of-type {\n",
              "        vertical-align: middle;\n",
              "    }\n",
              "\n",
              "    .dataframe tbody tr th {\n",
              "        vertical-align: top;\n",
              "    }\n",
              "\n",
              "    .dataframe thead th {\n",
              "        text-align: right;\n",
              "    }\n",
              "</style>\n",
              "<table border=\"1\" class=\"dataframe\">\n",
              "  <thead>\n",
              "    <tr style=\"text-align: right;\">\n",
              "      <th></th>\n",
              "      <th>filename</th>\n",
              "      <th>y_true</th>\n",
              "      <th>y_predict</th>\n",
              "    </tr>\n",
              "  </thead>\n",
              "  <tbody>\n",
              "    <tr>\n",
              "      <th>54</th>\n",
              "      <td>Covid/COVID-19(193).png</td>\n",
              "      <td>0</td>\n",
              "      <td>2</td>\n",
              "    </tr>\n",
              "    <tr>\n",
              "      <th>99</th>\n",
              "      <td>Normal/NORMAL (1339).png</td>\n",
              "      <td>1</td>\n",
              "      <td>2</td>\n",
              "    </tr>\n",
              "    <tr>\n",
              "      <th>106</th>\n",
              "      <td>Normal/NORMAL (233).png</td>\n",
              "      <td>1</td>\n",
              "      <td>2</td>\n",
              "    </tr>\n",
              "    <tr>\n",
              "      <th>109</th>\n",
              "      <td>Normal/NORMAL (357).png</td>\n",
              "      <td>1</td>\n",
              "      <td>2</td>\n",
              "    </tr>\n",
              "    <tr>\n",
              "      <th>121</th>\n",
              "      <td>Normal/NORMAL (646).png</td>\n",
              "      <td>1</td>\n",
              "      <td>0</td>\n",
              "    </tr>\n",
              "    <tr>\n",
              "      <th>133</th>\n",
              "      <td>Normal/NORMAL (842).png</td>\n",
              "      <td>1</td>\n",
              "      <td>2</td>\n",
              "    </tr>\n",
              "    <tr>\n",
              "      <th>166</th>\n",
              "      <td>Pneumonia/Viral Pneumonia (141).png</td>\n",
              "      <td>2</td>\n",
              "      <td>1</td>\n",
              "    </tr>\n",
              "    <tr>\n",
              "      <th>180</th>\n",
              "      <td>Pneumonia/Viral Pneumonia (366).png</td>\n",
              "      <td>2</td>\n",
              "      <td>1</td>\n",
              "    </tr>\n",
              "    <tr>\n",
              "      <th>196</th>\n",
              "      <td>Pneumonia/Viral Pneumonia (686).png</td>\n",
              "      <td>2</td>\n",
              "      <td>1</td>\n",
              "    </tr>\n",
              "  </tbody>\n",
              "</table>\n",
              "</div>\n",
              "    <div class=\"colab-df-buttons\">\n",
              "\n",
              "  <div class=\"colab-df-container\">\n",
              "    <button class=\"colab-df-convert\" onclick=\"convertToInteractive('df-7a3cf1a8-c690-4477-8385-939f9477e013')\"\n",
              "            title=\"Convert this dataframe to an interactive table.\"\n",
              "            style=\"display:none;\">\n",
              "\n",
              "  <svg xmlns=\"http://www.w3.org/2000/svg\" height=\"24px\" viewBox=\"0 -960 960 960\">\n",
              "    <path d=\"M120-120v-720h720v720H120Zm60-500h600v-160H180v160Zm220 220h160v-160H400v160Zm0 220h160v-160H400v160ZM180-400h160v-160H180v160Zm440 0h160v-160H620v160ZM180-180h160v-160H180v160Zm440 0h160v-160H620v160Z\"/>\n",
              "  </svg>\n",
              "    </button>\n",
              "\n",
              "  <style>\n",
              "    .colab-df-container {\n",
              "      display:flex;\n",
              "      gap: 12px;\n",
              "    }\n",
              "\n",
              "    .colab-df-convert {\n",
              "      background-color: #E8F0FE;\n",
              "      border: none;\n",
              "      border-radius: 50%;\n",
              "      cursor: pointer;\n",
              "      display: none;\n",
              "      fill: #1967D2;\n",
              "      height: 32px;\n",
              "      padding: 0 0 0 0;\n",
              "      width: 32px;\n",
              "    }\n",
              "\n",
              "    .colab-df-convert:hover {\n",
              "      background-color: #E2EBFA;\n",
              "      box-shadow: 0px 1px 2px rgba(60, 64, 67, 0.3), 0px 1px 3px 1px rgba(60, 64, 67, 0.15);\n",
              "      fill: #174EA6;\n",
              "    }\n",
              "\n",
              "    .colab-df-buttons div {\n",
              "      margin-bottom: 4px;\n",
              "    }\n",
              "\n",
              "    [theme=dark] .colab-df-convert {\n",
              "      background-color: #3B4455;\n",
              "      fill: #D2E3FC;\n",
              "    }\n",
              "\n",
              "    [theme=dark] .colab-df-convert:hover {\n",
              "      background-color: #434B5C;\n",
              "      box-shadow: 0px 1px 3px 1px rgba(0, 0, 0, 0.15);\n",
              "      filter: drop-shadow(0px 1px 2px rgba(0, 0, 0, 0.3));\n",
              "      fill: #FFFFFF;\n",
              "    }\n",
              "  </style>\n",
              "\n",
              "    <script>\n",
              "      const buttonEl =\n",
              "        document.querySelector('#df-7a3cf1a8-c690-4477-8385-939f9477e013 button.colab-df-convert');\n",
              "      buttonEl.style.display =\n",
              "        google.colab.kernel.accessAllowed ? 'block' : 'none';\n",
              "\n",
              "      async function convertToInteractive(key) {\n",
              "        const element = document.querySelector('#df-7a3cf1a8-c690-4477-8385-939f9477e013');\n",
              "        const dataTable =\n",
              "          await google.colab.kernel.invokeFunction('convertToInteractive',\n",
              "                                                    [key], {});\n",
              "        if (!dataTable) return;\n",
              "\n",
              "        const docLinkHtml = 'Like what you see? Visit the ' +\n",
              "          '<a target=\"_blank\" href=https://colab.research.google.com/notebooks/data_table.ipynb>data table notebook</a>'\n",
              "          + ' to learn more about interactive tables.';\n",
              "        element.innerHTML = '';\n",
              "        dataTable['output_type'] = 'display_data';\n",
              "        await google.colab.output.renderOutput(dataTable, element);\n",
              "        const docLink = document.createElement('div');\n",
              "        docLink.innerHTML = docLinkHtml;\n",
              "        element.appendChild(docLink);\n",
              "      }\n",
              "    </script>\n",
              "  </div>\n",
              "\n",
              "\n",
              "<div id=\"df-ae741adb-b6b6-4e29-88fc-a5ba8b00bb18\">\n",
              "  <button class=\"colab-df-quickchart\" onclick=\"quickchart('df-ae741adb-b6b6-4e29-88fc-a5ba8b00bb18')\"\n",
              "            title=\"Suggest charts.\"\n",
              "            style=\"display:none;\">\n",
              "\n",
              "<svg xmlns=\"http://www.w3.org/2000/svg\" height=\"24px\"viewBox=\"0 0 24 24\"\n",
              "     width=\"24px\">\n",
              "    <g>\n",
              "        <path d=\"M19 3H5c-1.1 0-2 .9-2 2v14c0 1.1.9 2 2 2h14c1.1 0 2-.9 2-2V5c0-1.1-.9-2-2-2zM9 17H7v-7h2v7zm4 0h-2V7h2v10zm4 0h-2v-4h2v4z\"/>\n",
              "    </g>\n",
              "</svg>\n",
              "  </button>\n",
              "\n",
              "<style>\n",
              "  .colab-df-quickchart {\n",
              "      --bg-color: #E8F0FE;\n",
              "      --fill-color: #1967D2;\n",
              "      --hover-bg-color: #E2EBFA;\n",
              "      --hover-fill-color: #174EA6;\n",
              "      --disabled-fill-color: #AAA;\n",
              "      --disabled-bg-color: #DDD;\n",
              "  }\n",
              "\n",
              "  [theme=dark] .colab-df-quickchart {\n",
              "      --bg-color: #3B4455;\n",
              "      --fill-color: #D2E3FC;\n",
              "      --hover-bg-color: #434B5C;\n",
              "      --hover-fill-color: #FFFFFF;\n",
              "      --disabled-bg-color: #3B4455;\n",
              "      --disabled-fill-color: #666;\n",
              "  }\n",
              "\n",
              "  .colab-df-quickchart {\n",
              "    background-color: var(--bg-color);\n",
              "    border: none;\n",
              "    border-radius: 50%;\n",
              "    cursor: pointer;\n",
              "    display: none;\n",
              "    fill: var(--fill-color);\n",
              "    height: 32px;\n",
              "    padding: 0;\n",
              "    width: 32px;\n",
              "  }\n",
              "\n",
              "  .colab-df-quickchart:hover {\n",
              "    background-color: var(--hover-bg-color);\n",
              "    box-shadow: 0 1px 2px rgba(60, 64, 67, 0.3), 0 1px 3px 1px rgba(60, 64, 67, 0.15);\n",
              "    fill: var(--button-hover-fill-color);\n",
              "  }\n",
              "\n",
              "  .colab-df-quickchart-complete:disabled,\n",
              "  .colab-df-quickchart-complete:disabled:hover {\n",
              "    background-color: var(--disabled-bg-color);\n",
              "    fill: var(--disabled-fill-color);\n",
              "    box-shadow: none;\n",
              "  }\n",
              "\n",
              "  .colab-df-spinner {\n",
              "    border: 2px solid var(--fill-color);\n",
              "    border-color: transparent;\n",
              "    border-bottom-color: var(--fill-color);\n",
              "    animation:\n",
              "      spin 1s steps(1) infinite;\n",
              "  }\n",
              "\n",
              "  @keyframes spin {\n",
              "    0% {\n",
              "      border-color: transparent;\n",
              "      border-bottom-color: var(--fill-color);\n",
              "      border-left-color: var(--fill-color);\n",
              "    }\n",
              "    20% {\n",
              "      border-color: transparent;\n",
              "      border-left-color: var(--fill-color);\n",
              "      border-top-color: var(--fill-color);\n",
              "    }\n",
              "    30% {\n",
              "      border-color: transparent;\n",
              "      border-left-color: var(--fill-color);\n",
              "      border-top-color: var(--fill-color);\n",
              "      border-right-color: var(--fill-color);\n",
              "    }\n",
              "    40% {\n",
              "      border-color: transparent;\n",
              "      border-right-color: var(--fill-color);\n",
              "      border-top-color: var(--fill-color);\n",
              "    }\n",
              "    60% {\n",
              "      border-color: transparent;\n",
              "      border-right-color: var(--fill-color);\n",
              "    }\n",
              "    80% {\n",
              "      border-color: transparent;\n",
              "      border-right-color: var(--fill-color);\n",
              "      border-bottom-color: var(--fill-color);\n",
              "    }\n",
              "    90% {\n",
              "      border-color: transparent;\n",
              "      border-bottom-color: var(--fill-color);\n",
              "    }\n",
              "  }\n",
              "</style>\n",
              "\n",
              "  <script>\n",
              "    async function quickchart(key) {\n",
              "      const quickchartButtonEl =\n",
              "        document.querySelector('#' + key + ' button');\n",
              "      quickchartButtonEl.disabled = true;  // To prevent multiple clicks.\n",
              "      quickchartButtonEl.classList.add('colab-df-spinner');\n",
              "      try {\n",
              "        const charts = await google.colab.kernel.invokeFunction(\n",
              "            'suggestCharts', [key], {});\n",
              "      } catch (error) {\n",
              "        console.error('Error during call to suggestCharts:', error);\n",
              "      }\n",
              "      quickchartButtonEl.classList.remove('colab-df-spinner');\n",
              "      quickchartButtonEl.classList.add('colab-df-quickchart-complete');\n",
              "    }\n",
              "    (() => {\n",
              "      let quickchartButtonEl =\n",
              "        document.querySelector('#df-ae741adb-b6b6-4e29-88fc-a5ba8b00bb18 button');\n",
              "      quickchartButtonEl.style.display =\n",
              "        google.colab.kernel.accessAllowed ? 'block' : 'none';\n",
              "    })();\n",
              "  </script>\n",
              "</div>\n",
              "    </div>\n",
              "  </div>\n"
            ]
          },
          "metadata": {},
          "execution_count": 36
        }
      ]
    },
    {
      "cell_type": "code",
      "source": [
        "misclassification['y_true'].count()"
      ],
      "metadata": {
        "colab": {
          "base_uri": "https://localhost:8080/"
        },
        "id": "EXRLJtzAQo2L",
        "outputId": "cc6b8b2d-0f7a-41fc-d3f0-655cb5ad2926"
      },
      "execution_count": 37,
      "outputs": [
        {
          "output_type": "execute_result",
          "data": {
            "text/plain": [
              "9"
            ]
          },
          "metadata": {},
          "execution_count": 37
        }
      ]
    }
  ]
}