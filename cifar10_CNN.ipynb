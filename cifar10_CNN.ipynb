{
  "cells": [
    {
      "cell_type": "code",
      "execution_count": 1,
      "metadata": {
        "id": "oIiUZqdXymRs"
      },
      "outputs": [
        {
          "ename": "ModuleNotFoundError",
          "evalue": "No module named 'tensorflow'",
          "output_type": "error",
          "traceback": [
            "\u001b[1;31m---------------------------------------------------------------------------\u001b[0m",
            "\u001b[1;31mModuleNotFoundError\u001b[0m                       Traceback (most recent call last)",
            "\u001b[1;32mc:\\Users\\Kareem\\Downloads\\cifar10_CNN.ipynb Cell 1\u001b[0m line \u001b[0;36m<cell line: 2>\u001b[1;34m()\u001b[0m\n\u001b[0;32m      <a href='vscode-notebook-cell:/c%3A/Users/Kareem/Downloads/cifar10_CNN.ipynb#W0sZmlsZQ%3D%3D?line=0'>1</a>\u001b[0m \u001b[39mimport\u001b[39;00m \u001b[39mpandas\u001b[39;00m \u001b[39mas\u001b[39;00m \u001b[39mpd\u001b[39;00m\n\u001b[1;32m----> <a href='vscode-notebook-cell:/c%3A/Users/Kareem/Downloads/cifar10_CNN.ipynb#W0sZmlsZQ%3D%3D?line=1'>2</a>\u001b[0m \u001b[39mfrom\u001b[39;00m \u001b[39mtensorflow\u001b[39;00m \u001b[39mimport\u001b[39;00m keras\n\u001b[0;32m      <a href='vscode-notebook-cell:/c%3A/Users/Kareem/Downloads/cifar10_CNN.ipynb#W0sZmlsZQ%3D%3D?line=2'>3</a>\u001b[0m \u001b[39mfrom\u001b[39;00m \u001b[39mkeras\u001b[39;00m\u001b[39m.\u001b[39;00m\u001b[39mmodels\u001b[39;00m \u001b[39mimport\u001b[39;00m \u001b[39m*\u001b[39m\n\u001b[0;32m      <a href='vscode-notebook-cell:/c%3A/Users/Kareem/Downloads/cifar10_CNN.ipynb#W0sZmlsZQ%3D%3D?line=3'>4</a>\u001b[0m \u001b[39mfrom\u001b[39;00m \u001b[39mkeras\u001b[39;00m\u001b[39m.\u001b[39;00m\u001b[39mlayers\u001b[39;00m \u001b[39mimport\u001b[39;00m \u001b[39m*\u001b[39m\n",
            "\u001b[1;31mModuleNotFoundError\u001b[0m: No module named 'tensorflow'"
          ]
        }
      ],
      "source": [
        "import pandas as pd\n",
        "from tensorflow import keras\n",
        "from keras.models import *\n",
        "from keras.layers import *\n",
        "import tensorflow.keras.utils\n",
        "from tensorflow.keras.layers import Conv2D, MaxPooling2D, Flatten, Dense\n",
        "from tensorflow.keras.callbacks import EarlyStopping, ModelCheckpoint\n",
        "from tensorflow.keras.utils import load_img, img_to_array\n",
        "import numpy as np\n",
        "from tensorflow.keras.models import load_model\n",
        "from numpy import argmax\n",
        "from keras import datasets\n",
        "import matplotlib.pyplot as plt\n"
      ]
    },
    {
      "cell_type": "code",
      "execution_count": 7,
      "metadata": {
        "id": "Q2FvADDzysix"
      },
      "outputs": [
        {
          "ename": "NameError",
          "evalue": "name 'datasets' is not defined",
          "output_type": "error",
          "traceback": [
            "\u001b[1;31m---------------------------------------------------------------------------\u001b[0m",
            "\u001b[1;31mNameError\u001b[0m                                 Traceback (most recent call last)",
            "\u001b[1;32mc:\\Users\\Kareem\\Downloads\\cifar10_CNN.ipynb Cell 2\u001b[0m line \u001b[0;36m<cell line: 1>\u001b[1;34m()\u001b[0m\n\u001b[1;32m----> <a href='vscode-notebook-cell:/c%3A/Users/Kareem/Downloads/cifar10_CNN.ipynb#W1sZmlsZQ%3D%3D?line=0'>1</a>\u001b[0m (x_train,y_train),(x_test,y_test)\u001b[39m=\u001b[39m datasets\u001b[39m.\u001b[39mcifar10\u001b[39m.\u001b[39mload_data()\n",
            "\u001b[1;31mNameError\u001b[0m: name 'datasets' is not defined"
          ]
        }
      ],
      "source": [
        "(x_train,y_train),(x_test,y_test)= datasets.cifar10.load_data()"
      ]
    },
    {
      "cell_type": "code",
      "execution_count": 3,
      "metadata": {
        "id": "uqvHfqHHY5J6"
      },
      "outputs": [],
      "source": [
        "cifar=datasets.cifar10.load_data()"
      ]
    },
    {
      "cell_type": "code",
      "execution_count": 4,
      "metadata": {
        "id": "j_Sk-fvLZADo"
      },
      "outputs": [],
      "source": [
        "from sklearn.model_selection import train_test_split\n",
        "x_train,x_val,y_train,y_val=train_test_split(x_train,y_train,test_size=0.3,random_state=42)"
      ]
    },
    {
      "cell_type": "code",
      "execution_count": 5,
      "metadata": {
        "id": "OQKXcYo9zNCK"
      },
      "outputs": [],
      "source": [
        "x_train=x_train/255\n",
        "x_test=x_test/255"
      ]
    },
    {
      "cell_type": "code",
      "execution_count": 6,
      "metadata": {
        "colab": {
          "base_uri": "https://localhost:8080/"
        },
        "id": "jdYbIP0J0L2J",
        "outputId": "7bb513e4-9f8c-4a34-8019-b86eee8d812c"
      },
      "outputs": [
        {
          "data": {
            "text/plain": [
              "((35000, 32, 32, 3), (10000, 32, 32, 3))"
            ]
          },
          "execution_count": 6,
          "metadata": {},
          "output_type": "execute_result"
        }
      ],
      "source": [
        "(x_train.shape,x_test.shape)"
      ]
    },
    {
      "cell_type": "code",
      "execution_count": 7,
      "metadata": {
        "colab": {
          "base_uri": "https://localhost:8080/",
          "height": 447
        },
        "id": "iJeM2WHb9VcU",
        "outputId": "908e5f15-e330-4016-92d7-05dbc32c3a74"
      },
      "outputs": [
        {
          "data": {
            "text/plain": [
              "<matplotlib.image.AxesImage at 0x79681eba9ed0>"
            ]
          },
          "execution_count": 7,
          "metadata": {},
          "output_type": "execute_result"
        },
        {
          "data": {
            "image/png": "[encoded data removed]",
            "text/plain": [
              "<Figure size 640x480 with 1 Axes>"
            ]
          },
          "metadata": {},
          "output_type": "display_data"
        }
      ],
      "source": [
        "plt.imshow(x_train[20],cmap='gray')"
      ]
    },
    {
      "cell_type": "code",
      "execution_count": 8,
      "metadata": {
        "colab": {
          "base_uri": "https://localhost:8080/"
        },
        "id": "VMUKN81P9Vjb",
        "outputId": "357b3b47-76ff-4495-c454-1ad376ae649f"
      },
      "outputs": [
        {
          "data": {
            "text/plain": [
              "array([0], dtype=uint8)"
            ]
          },
          "execution_count": 8,
          "metadata": {},
          "output_type": "execute_result"
        }
      ],
      "source": [
        "y_train[20]"
      ]
    },
    {
      "cell_type": "code",
      "execution_count": 9,
      "metadata": {
        "colab": {
          "base_uri": "https://localhost:8080/"
        },
        "id": "BdobrZtozVZR",
        "outputId": "7b3ab1d9-e5e1-4ab5-affd-5918637b1c74"
      },
      "outputs": [
        {
          "name": "stdout",
          "output_type": "stream",
          "text": [
            "Model: \"sequential\"\n",
            "_________________________________________________________________\n",
            " Layer (type)                Output Shape              Param #   \n",
            "=================================================================\n",
            " conv2d (Conv2D)             (None, 32, 32, 32)        896       \n",
            "                                                                 \n",
            " conv2d_1 (Conv2D)           (None, 30, 30, 32)        9248      \n",
            "                                                                 \n",
            " max_pooling2d (MaxPooling2D  (None, 15, 15, 32)       0         \n",
            " )                                                               \n",
            "                                                                 \n",
            " dropout (Dropout)           (None, 15, 15, 32)        0         \n",
            "                                                                 \n",
            " conv2d_2 (Conv2D)           (None, 15, 15, 64)        18496     \n",
            "                                                                 \n",
            " conv2d_3 (Conv2D)           (None, 13, 13, 64)        36928     \n",
            "                                                                 \n",
            " max_pooling2d_1 (MaxPooling  (None, 6, 6, 64)         0         \n",
            " 2D)                                                             \n",
            "                                                                 \n",
            " dropout_1 (Dropout)         (None, 6, 6, 64)          0         \n",
            "                                                                 \n",
            " conv2d_4 (Conv2D)           (None, 6, 6, 64)          36928     \n",
            "                                                                 \n",
            " conv2d_5 (Conv2D)           (None, 4, 4, 64)          36928     \n",
            "                                                                 \n",
            " max_pooling2d_2 (MaxPooling  (None, 2, 2, 64)         0         \n",
            " 2D)                                                             \n",
            "                                                                 \n",
            " dropout_2 (Dropout)         (None, 2, 2, 64)          0         \n",
            "                                                                 \n",
            " flatten (Flatten)           (None, 256)               0         \n",
            "                                                                 \n",
            " dense (Dense)               (None, 84)                21588     \n",
            "                                                                 \n",
            " dropout_3 (Dropout)         (None, 84)                0         \n",
            "                                                                 \n",
            " dense_1 (Dense)             (None, 10)                850       \n",
            "                                                                 \n",
            "=================================================================\n",
            "Total params: 161,862\n",
            "Trainable params: 161,862\n",
            "Non-trainable params: 0\n",
            "_________________________________________________________________\n"
          ]
        },
        {
          "data": {
            "text/plain": [
              "<bound method Model.summary of <keras.engine.sequential.Sequential object at 0x796833134310>>"
            ]
          },
          "execution_count": 9,
          "metadata": {},
          "output_type": "execute_result"
        }
      ],
      "source": [
        "from tensorflow.keras.models import Sequential\n",
        "from tensorflow.keras.layers import Conv2D, AvgPool2D, Flatten, Dense, Input\n",
        "\n",
        "CNN_mnist = Sequential()\n",
        "CNN_mnist.add(Conv2D(32, (3, 3), padding='same', activation='relu', input_shape=(32,32,3)))\n",
        "CNN_mnist.add(Conv2D(32, (3, 3), activation='relu'))\n",
        "CNN_mnist.add(MaxPooling2D(pool_size=(2, 2)))\n",
        "CNN_mnist.add(Dropout(0.25))\n",
        "CNN_mnist.add(Conv2D(64, (3, 3), padding='same', activation='relu'))\n",
        "CNN_mnist.add(Conv2D(64, (3, 3), activation='relu'))\n",
        "CNN_mnist.add(MaxPooling2D(pool_size=(2, 2)))\n",
        "CNN_mnist.add(Dropout(0.25))\n",
        "CNN_mnist.add(Conv2D(64, (3, 3), padding='same', activation='relu'))\n",
        "CNN_mnist.add(Conv2D(64, (3, 3), activation='relu'))\n",
        "CNN_mnist.add(MaxPooling2D(pool_size=(2, 2)))\n",
        "CNN_mnist.add(Dropout(0.25))\n",
        "CNN_mnist.add(Flatten())\n",
        "CNN_mnist.add(Dense(84, activation='relu'))\n",
        "CNN_mnist.add(Dropout(0.5))\n",
        "CNN_mnist.add(Dense(10, activation='softmax'))\n",
        "\n",
        "CNN_mnist.summary()\n",
        "CNN_mnist.summary\n"
      ]
    },
    {
      "cell_type": "code",
      "execution_count": null,
      "metadata": {
        "id": "fZ7NV5RA_7aD"
      },
      "outputs": [],
      "source": [
        "CNN_mnist.compile(loss='sparse_categorical_crossentropy', optimizer ='Adam',metrics=['accuracy'])\n",
        "var=CNN_mnist.fit(x_train,y_train,epochs=1,verbose=2,validation_data=(x_val,y_val),callbacks=keras.callbacks.EarlyStopping(patience=5,restore_best_weights=True))"
      ]
    },
    {
      "cell_type": "code",
      "execution_count": null,
      "metadata": {
        "id": "H0CMzudzBH4y"
      },
      "outputs": [],
      "source": [
        "score_train=CNN_mnist.evaluate(x_train,y_train)\n"
      ]
    },
    {
      "cell_type": "code",
      "execution_count": null,
      "metadata": {
        "id": "5pTR4lTZBx2L"
      },
      "outputs": [],
      "source": [
        "score_test= CNN_mnist.evaluate(x_test,y_test)"
      ]
    },
    {
      "cell_type": "code",
      "execution_count": null,
      "metadata": {
        "id": "mBUpiwmFBVMC"
      },
      "outputs": [],
      "source": [
        "y_predict=CNN_mnist.predict(x_test)\n",
        "y_predict.shape"
      ]
    },
    {
      "cell_type": "code",
      "execution_count": null,
      "metadata": {
        "id": "VslYeWQeCPDT"
      },
      "outputs": [],
      "source": [
        "import numpy as np\n",
        "from numpy import argmax\n",
        "y_predict1=argmax(y_predict,axis=1)"
      ]
    },
    {
      "cell_type": "code",
      "execution_count": null,
      "metadata": {
        "id": "K31ZutlqC9dr"
      },
      "outputs": [],
      "source": [
        "plt.imshow(x_test[0])"
      ]
    },
    {
      "cell_type": "code",
      "execution_count": null,
      "metadata": {
        "id": "bUOM-2XmBeni"
      },
      "outputs": [],
      "source": [
        "print(y_test[0])\n",
        "print(y_predict[0])\n",
        "print(y_predict1[0])\n"
      ]
    },
    {
      "cell_type": "code",
      "execution_count": null,
      "metadata": {
        "id": "dkidwzr_DvS7"
      },
      "outputs": [],
      "source": [
        "ANN_mnist.save('mnist.Neural')"
      ]
    },
    {
      "cell_type": "code",
      "execution_count": null,
      "metadata": {
        "id": "wAqd4bVTLQTg"
      },
      "outputs": [],
      "source": [
        "import tensorflow.keras.utils\n",
        "from tensorflow.keras.utils import load_img, img_to_array\n",
        "image=load_img(\"/content/sample_image.webp\",target_size=(28,28))\n",
        "image"
      ]
    },
    {
      "cell_type": "code",
      "execution_count": null,
      "metadata": {
        "id": "zT8d6ttLLQWu"
      },
      "outputs": [],
      "source": [
        "image.size"
      ]
    },
    {
      "cell_type": "code",
      "execution_count": null,
      "metadata": {
        "id": "HOlOmXnNLQZH"
      },
      "outputs": [],
      "source": [
        "image=image.convert('L')"
      ]
    },
    {
      "cell_type": "code",
      "execution_count": null,
      "metadata": {
        "id": "Kwm8nXlOLQbP"
      },
      "outputs": [],
      "source": [
        "image=img_to_array(image)\n",
        "image.shape"
      ]
    },
    {
      "cell_type": "code",
      "execution_count": null,
      "metadata": {
        "id": "rwzp66bPQNOA"
      },
      "outputs": [],
      "source": [
        "image=image/255"
      ]
    },
    {
      "cell_type": "code",
      "execution_count": null,
      "metadata": {
        "id": "uPQnxBZ7N3EQ"
      },
      "outputs": [],
      "source": [
        "plt.imshow(x_test[0],cmap='gray')"
      ]
    },
    {
      "cell_type": "code",
      "execution_count": null,
      "metadata": {
        "id": "TCPnV9D1QqVA"
      },
      "outputs": [],
      "source": [
        "\n",
        "import cv2\n",
        "import numpy as np\n",
        "\n",
        "\n",
        "model = load_model('mnist.Neural')\n",
        "\n",
        "image = cv2.imread('/content/sample_image.webp', cv2.IMREAD_GRAYSCALE)\n",
        "image = cv2.resize(image, (28, 28))\n",
        "image = image / 255.0\n",
        "image = np.expand_dims(image, axis=0)\n",
        "image = np.expand_dims(image, axis=-1)\n",
        "\n"
      ]
    },
    {
      "cell_type": "code",
      "execution_count": null,
      "metadata": {
        "id": "2O5FhcRWRZuJ"
      },
      "outputs": [],
      "source": [
        "predictions = model.predict(image)\n",
        "\n",
        "predicted_class = np.argmax(predictions)\n",
        "\n",
        "print(\"Predicted class:\", predicted_class)"
      ]
    }
  ],
  "metadata": {
    "accelerator": "TPU",
    "colab": {
      "provenance": []
    },
    "kernelspec": {
      "display_name": "Python 3",
      "name": "python3"
    },
    "language_info": {
      "codemirror_mode": {
        "name": "ipython",
        "version": 3
      },
      "file_extension": ".py",
      "mimetype": "text/x-python",
      "name": "python",
      "nbconvert_exporter": "python",
      "pygments_lexer": "ipython3",
      "version": "3.9.12"
    }
  },
  "nbformat": 4,
  "nbformat_minor": 0
}
